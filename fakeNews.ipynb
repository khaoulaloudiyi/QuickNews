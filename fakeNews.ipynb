{
  "nbformat": 4,
  "nbformat_minor": 0,
  "metadata": {
    "colab": {
      "name": "fakeNews.ipynb",
      "provenance": [],
      "authorship_tag": "ABX9TyMQ3pEwrhg78TVZOhZwDOno",
      "include_colab_link": true
    },
    "kernelspec": {
      "name": "python3",
      "display_name": "Python 3"
    }
  },
  "cells": [
    {
      "cell_type": "markdown",
      "metadata": {
        "id": "view-in-github",
        "colab_type": "text"
      },
      "source": [
        "<a href=\"https://colab.research.google.com/github/khaoulaloudiyi/QuickNews/blob/master/fakeNews.ipynb\" target=\"_parent\"><img src=\"https://colab.research.google.com/assets/colab-badge.svg\" alt=\"Open In Colab\"/></a>"
      ]
    },
    {
      "cell_type": "code",
      "metadata": {
        "id": "9WY9I8ND_1Nq",
        "colab_type": "code",
        "colab": {}
      },
      "source": [
        "from google.colab import drive\n",
        "drive.mount('/content/drive')"
      ],
      "execution_count": null,
      "outputs": []
    },
    {
      "cell_type": "code",
      "metadata": {
        "id": "2YYL4TzUAt-O",
        "colab_type": "code",
        "colab": {
          "base_uri": "https://localhost:8080/",
          "height": 34
        },
        "outputId": "ce8cc90c-0968-4848-ab7a-4cd351978afb"
      },
      "source": [
        "!pwd"
      ],
      "execution_count": 2,
      "outputs": [
        {
          "output_type": "stream",
          "text": [
            "/content\n"
          ],
          "name": "stdout"
        }
      ]
    },
    {
      "cell_type": "code",
      "metadata": {
        "id": "1sGDwdGQA68i",
        "colab_type": "code",
        "colab": {
          "base_uri": "https://localhost:8080/",
          "height": 34
        },
        "outputId": "43a6b436-63c8-4db4-c31a-cbca8cbab722"
      },
      "source": [
        "cd /content/drive/My Drive/fakeNews"
      ],
      "execution_count": 3,
      "outputs": [
        {
          "output_type": "stream",
          "text": [
            "/content/drive/My Drive/fakeNews\n"
          ],
          "name": "stdout"
        }
      ]
    },
    {
      "cell_type": "code",
      "metadata": {
        "id": "38UyalaFBVUD",
        "colab_type": "code",
        "colab": {
          "base_uri": "https://localhost:8080/",
          "height": 71
        },
        "outputId": "febe69d8-02b0-4302-8fe2-6a26b686af58"
      },
      "source": [
        "import pandas as pd \n",
        "import numpy as np\n",
        "import seaborn as sns\n",
        "import matplotlib.pyplot as plt\n",
        "import re as re\n",
        "import scipy.stats as stats\n",
        "import math\n",
        "from textblob import TextBlob\n",
        "from sklearn import metrics \n",
        "from sklearn.model_selection import train_test_split\n",
        "from sklearn.feature_extraction.text import CountVectorizer\n",
        "from sklearn.feature_extraction.text import TfidfVectorizer\n",
        "from sklearn.naive_bayes import MultinomialNB\n",
        "from sklearn.metrics import roc_auc_score, classification_report, confusion_matrix\n",
        "from sklearn.metrics import auc\n",
        "from sklearn.linear_model import LogisticRegression\n",
        "import scipy.stats as stats\n",
        "import keras\n",
        "from keras.models import Sequential\n",
        "from keras.layers import Dense, Embedding, LSTM, SpatialDropout1D, Activation, Dropout\n",
        "from keras.callbacks import EarlyStopping\n",
        "from sklearn.model_selection import GridSearchCV\n",
        "from nltk.corpus import stopwords\n",
        "from nltk import word_tokenize\n"
      ],
      "execution_count": 4,
      "outputs": [
        {
          "output_type": "stream",
          "text": [
            "/usr/local/lib/python3.6/dist-packages/statsmodels/tools/_testing.py:19: FutureWarning: pandas.util.testing is deprecated. Use the functions in the public API at pandas.testing instead.\n",
            "  import pandas.util.testing as tm\n"
          ],
          "name": "stderr"
        }
      ]
    },
    {
      "cell_type": "code",
      "metadata": {
        "id": "871RR1rYCH80",
        "colab_type": "code",
        "colab": {}
      },
      "source": [
        "def findlength(dataframe, column_name):\n",
        "    \n",
        "    \"\"\"\n",
        "    findLength returns the length of text entries\n",
        "    Parameters\n",
        "    ----------\n",
        "    dataframe : DataFrame\n",
        "        A pandas DataFrame object. \n",
        "    column_name: String\n",
        "        Name of the DataFrame column that contains text\n",
        "    Returns\n",
        "    -------\n",
        "        Length of text entries\n",
        "    \"\"\"\n",
        "\n",
        "    length_te = [len(str(words)) for words in dataframe[column_name]]\n",
        "    \n",
        "    return length_te\n",
        "\n",
        "def null_plot(df, kind):\n",
        "    \n",
        "    \"\"\"\n",
        "    null_plot plots null counts of each column of the DataFrame\n",
        "    Parameters\n",
        "    ----------\n",
        "    df : DataFrame\n",
        "        A pandas DataFrame object. \n",
        "    kind : Plot kind\n",
        "        The kind of plot i.e. bar\n",
        "    Returns\n",
        "    -------\n",
        "        Plot of chosen kind of null values in DataFrame.\n",
        "    \"\"\"\n",
        "\n",
        "    null_df = pd.DataFrame(columns=['column_name', 'null_counts'])\n",
        "    null_df['column_name'] = df.columns\n",
        "    null_df['null_counts'] = df.isnull().sum().values\n",
        "    #df.isnull().sum().values\n",
        "    null_df.sort_values(by=['null_counts'], ascending=True, inplace=True)\n",
        "    null_df.plot(x='column_name', y='null_counts', kind=kind)\n",
        "    plt.gca().spines['right'].set_visible(False)\n",
        "    plt.gca().spines['top'].set_visible(False)\n",
        "    print(df.isnull().sum().sort_values(ascending=False))\n",
        "    plt.show()\n",
        "    \n",
        "    \n",
        "\n",
        "def preprocess(article_text):\n",
        "    \n",
        "    \"\"\"\n",
        "    preprocess performs text preprocessing\n",
        "    Parameters\n",
        "    ----------\n",
        "    article_text : DataFrame column\n",
        "        A column containing text. \n",
        "    Returns\n",
        "    -------\n",
        "        A preprocessed clean text column\n",
        "    \"\"\"\n",
        "\n",
        "    # Remove Line Breaks element\n",
        "    article_text = article_text.str.replace(\"(<br/>)\", \"\")\n",
        "    # Remove NewLine element\n",
        "    article_text = article_text.str.replace(\"(\\n)\", \"\")\n",
        "    #  Remove Hyperlink element\n",
        "    article_text = article_text.str.replace('(<a).*(>).*(</a>)', '')\n",
        "    # Remove Ampersand \n",
        "    article_text = article_text.str.replace('(&amp)', '')\n",
        "    # Remove greater than sign\n",
        "    article_text = article_text.str.replace('(&gt)', '')\n",
        "    # Remove less than sign\n",
        "    article_text = article_text.str.replace('(&lt)', '')\n",
        "    # Remove non-breaking space \n",
        "    article_text = article_text.str.replace('(\\xa0)', ' ')  \n",
        "    # Remove Emails\n",
        "    article_text = [re.sub(r\"\\S*@\\S*\\s?\", '', str(sent)) for sent in article_text]\n",
        "    # Remove new line characters\n",
        "    article_text = [re.sub(r\"\\s+\", ' ', sent) for sent in article_text]\n",
        "    # Remove distracting single quotes\n",
        "    article_text = [re.sub(\"\\'\", \"\", sent) for sent in article_text]\n",
        "    \n",
        "    return article_text\n",
        "\n",
        "# helper function to plot distribution along with mean and median of text polarity \n",
        "def dist_plot(df, column, title, article_type):\n",
        "    \n",
        "    \"\"\"\n",
        "    dist_plot plots distribution along with mean and median of text polarity \n",
        "    Parameters\n",
        "    ----------\n",
        "    df : DataFrame\n",
        "        A pandas DataFrame object. \n",
        "    column : String\n",
        "        The column containing data for plotting distribution and calculauting mean & median.\n",
        "    title : String\n",
        "        The title of the plot.\n",
        "    article_type : String\n",
        "        The type of articles whose distribution is being plotted i.e. all articles, real articles or fake articles.\n",
        "    Returns\n",
        "    -------\n",
        "        Distribution Plot with mean and median plotted\n",
        "    \"\"\"\n",
        "    \n",
        "    plt.figure(figsize=(12,6))\n",
        "    plt.gca().spines['right'].set_visible(False)\n",
        "    plt.gca().spines['top'].set_visible(False)\n",
        "    sns.set_context(\"paper\")\n",
        "    sns.distplot(df[column], bins=35,hist=True)\n",
        "    plt.title(title)\n",
        "    real_tpmean = df[column].mean()\n",
        "    real_tpmedian = df[column].median()\n",
        "    print('The mean of text polarity in ' + article_type + ' is: ' + str(round(real_tpmean,3)))\n",
        "    print('The median of text polarity in ' + article_type + ' is: ' + str(round(real_tpmedian,3)))\n",
        "    plt.axvline(real_tpmean, color='r',alpha=0.5)\n",
        "    plt.axvline(real_tpmedian, color='g',alpha=0.8)\n",
        "    plt.show()\n",
        "    \n",
        "# Function to get top N_words\n",
        "\"\"\" Following three functions were sourced from \n",
        "https://github.com/susanli2016/NLP-with-Python/blob/master/EDA%20and%20visualization%20for%20Text%20Data.ipynb\"\"\"\n",
        "\n",
        "def get_top_n_words(corpus, n=None):\n",
        "    \n",
        "    \"\"\"\n",
        "    get_top_n_words gets the top n unigrams from the text corpus\n",
        "    Parameters\n",
        "    ----------\n",
        "    corpus : DataFrame column\n",
        "        A pandas DataFrame column. \n",
        "    n : Integer\n",
        "        The number of top unigrams you want to return i.e. 10, 20.\n",
        "    Returns\n",
        "    -------\n",
        "        List of top n unigrams\n",
        "    \"\"\"\n",
        "    \n",
        "    vec = CountVectorizer().fit(corpus)\n",
        "    bag_of_words = vec.transform(corpus)\n",
        "    sum_words = bag_of_words.sum(axis=0) \n",
        "    words_freq = [(word, sum_words[0, idx]) for word, idx in vec.vocabulary_.items()]\n",
        "    words_freq =sorted(words_freq, key = lambda x: x[1], reverse=True)\n",
        "    return words_freq[:n]\n",
        "\n",
        "def get_top_n_words_nosw(corpus, n=None):\n",
        "    \n",
        "    \"\"\"\n",
        "    get_top_n_words_nosw gets the top n unigrams from the text corpus after stopwords are removed\n",
        "    Parameters\n",
        "    ----------\n",
        "    corpus : DataFrame column\n",
        "        A pandas DataFrame column. \n",
        "    n : Integer\n",
        "        The number of top unigrams you want to return i.e. 10, 20.\n",
        "    Returns\n",
        "    -------\n",
        "        List of top n unigrams\n",
        "    \"\"\"\n",
        "    vec = CountVectorizer(stop_words='english').fit(corpus)\n",
        "    bag_of_words = vec.transform(corpus)\n",
        "    sum_words = bag_of_words.sum(axis=0) \n",
        "    words_freq = [(word, sum_words[0, idx]) for word, idx in vec.vocabulary_.items()]\n",
        "    words_freq =sorted(words_freq, key = lambda x: x[1], reverse=True)\n",
        "    return words_freq[:n]\n",
        "\n",
        "def get_top_n_bigram(corpus, n=None):\n",
        "    \n",
        "    \"\"\"\n",
        "    get_top_n_bigram gets the top n bigrams from the text corpus\n",
        "    Parameters\n",
        "    ----------\n",
        "    corpus : DataFrame column\n",
        "        A pandas DataFrame column. \n",
        "    n : Integer\n",
        "        The number of top bigrams you want to return i.e. 10, 20.\n",
        "    Returns\n",
        "    -------\n",
        "        List of top n bigrams\n",
        "    \"\"\"\n",
        "    vec = CountVectorizer(ngram_range=(2, 2)).fit(corpus)\n",
        "    bag_of_words = vec.transform(corpus)\n",
        "    sum_words = bag_of_words.sum(axis=0) \n",
        "    words_freq = [(word, sum_words[0, idx]) for word, idx in vec.vocabulary_.items()]\n",
        "    words_freq =sorted(words_freq, key = lambda x: x[1], reverse=True)\n",
        "    return words_freq[:n]\n",
        "\n",
        "def get_top_n_bigram_nosw(corpus, n=None):\n",
        "    \n",
        "    \"\"\"\n",
        "    get_top_n_bigrams_nosw gets the top n bigrams from the text corpus after stopwords are removed\n",
        "    Parameters\n",
        "    ----------\n",
        "    corpus : DataFrame column\n",
        "        A pandas DataFrame column. \n",
        "    n : Integer\n",
        "        The number of top bigrams you want to return i.e. 10, 20.\n",
        "    Returns\n",
        "    -------\n",
        "        List of top n bigrams\n",
        "    \"\"\"\n",
        "    vec = CountVectorizer(ngram_range=(2, 2), stop_words='english').fit(corpus)\n",
        "    bag_of_words = vec.transform(corpus)\n",
        "    sum_words = bag_of_words.sum(axis=0) \n",
        "    words_freq = [(word, sum_words[0, idx]) for word, idx in vec.vocabulary_.items()]\n",
        "    words_freq =sorted(words_freq, key = lambda x: x[1], reverse=True)\n",
        "    return words_freq[:n]\n",
        "\n",
        "def get_top_n_trigram(corpus, n=None):\n",
        "        \n",
        "    \"\"\"\n",
        "    get_top_n_trigram gets the top n trigrams from the text corpus\n",
        "    Parameters\n",
        "    ----------\n",
        "    corpus : DataFrame column\n",
        "        A pandas DataFrame column. \n",
        "    n : Integer\n",
        "        The number of top trigrams you want to return i.e. 10, 20.\n",
        "    Returns\n",
        "    -------\n",
        "        List of top n trigrams\n",
        "    \"\"\"\n",
        "\n",
        "    vec = CountVectorizer(ngram_range=(3, 3)).fit(corpus)\n",
        "    bag_of_words = vec.transform(corpus)\n",
        "    sum_words = bag_of_words.sum(axis=0) \n",
        "    words_freq = [(word, sum_words[0, idx]) for word, idx in vec.vocabulary_.items()]\n",
        "    words_freq =sorted(words_freq, key = lambda x: x[1], reverse=True)\n",
        "    return words_freq[:n]\n",
        "\n",
        "def get_top_n_trigram_nosw(corpus, n=None):\n",
        "\n",
        "    \"\"\"\n",
        "    get_top_n_bigrams_nosw gets the top n trigrams from the text corpus after stopwords are removed\n",
        "    Parameters\n",
        "    ----------\n",
        "    corpus : DataFrame column\n",
        "        A pandas DataFrame column. \n",
        "    n : Integer\n",
        "        The number of top trigrams you want to return i.e. 10, 20.\n",
        "    Returns\n",
        "    -------\n",
        "        List of top n trigrams\n",
        "    \"\"\"\n",
        "\n",
        "    vec = CountVectorizer(ngram_range=(3, 3), stop_words='english').fit(corpus)\n",
        "    bag_of_words = vec.transform(corpus)\n",
        "    sum_words = bag_of_words.sum(axis=0) \n",
        "    words_freq = [(word, sum_words[0, idx]) for word, idx in vec.vocabulary_.items()]\n",
        "    words_freq =sorted(words_freq, key = lambda x: x[1], reverse=True)\n",
        "    return words_freq[:n]\n",
        "\n",
        "# Train logistic regression classifier and its roc-auc score, accuracy, confusion matrix & classification report.\n",
        "def log_reg_classifier(model, cw, c, xtrain, ytrain, xtest, ytest):\n",
        "\n",
        "    \"\"\"\n",
        "    log_reg_classifier trains, tests and evaluates a Logistic Regression Classifier\n",
        "    Parameters\n",
        "    ----------\n",
        "    model : Model Object\n",
        "        Initialize call to Logistic Regression model i.e. LogisticRegression()\n",
        "    cw : String\n",
        "        Class weight model parameter setting.\n",
        "    c : Integer\n",
        "        C model parameter setting.\n",
        "    xtrain: DataFrame\n",
        "        The training dataframe containing feature variables.\n",
        "    ytrain: DataFrame\n",
        "        The training dataframe containing predictions.\n",
        "    xtest: DataFrame\n",
        "        The test dataframe containing feature variables.\n",
        "    ytest: DataFrame\n",
        "        The test dataframe containing predicitons. \n",
        "    \n",
        "    Returns\n",
        "    -------\n",
        "        The model's AUC-ROC score, accuracy, confusion matrix and classification report. \n",
        "    \"\"\"\n",
        "\n",
        "    log_reg = model(class_weight=cw, C=c)\n",
        "    log_reg.fit(xtrain,ytrain)\n",
        "    print(\"\\n\\n -- Logistic Regression Model --\")\n",
        "    log_reg_auc_score = roc_auc_score(ytest,log_reg.predict(xtest))\n",
        "    print(\"-- Logistic Regression Model AUC = %2.2f --\" % log_reg_auc_score)\n",
        "    score_lr_cv = metrics.accuracy_score(ytest,log_reg.predict(xtest))\n",
        "    print(\"-- Logistic Regression Model with Count Vectorizer Accuracy = %2.2f --\" % score_lr_cv)\n",
        "    cm = metrics.confusion_matrix(ytest,log_reg.predict(xtest), labels=[0, 1])\n",
        "    print(cm)\n",
        "    print(classification_report(ytest, log_reg.predict(xtest)))\n",
        "\n",
        "# Train Multinomial Naive Bayes classifier and its roc-auc score, accuracy, confusion matrix & classification report.\n",
        "def mnb_classifier(model, alpha, xtrain, ytrain, xtest, ytest):\n",
        "\n",
        "    \"\"\"\n",
        "    mnb_classifier trains, tests and evaluates a Multinomial Naive Bayes Classifier\n",
        "    Parameters\n",
        "    ----------\n",
        "    model : Model Object\n",
        "        Initialize call to Multinomial Naive Bayes model i.e. Multinomial Naive Bayes()\n",
        "    alpha : Integer\n",
        "        alpha model parameter setting.\n",
        "    xtrain: DataFrame\n",
        "        The training dataframe containing feature variables.\n",
        "    ytrain: DataFrame\n",
        "        The training dataframe containing predictions.\n",
        "    xtest: DataFrame\n",
        "        The test dataframe containing feature variables.\n",
        "    ytest: DataFrame\n",
        "        The test dataframe containing predicitons. \n",
        "    \n",
        "    Returns\n",
        "    -------\n",
        "        The model's AUC-ROC score, accuracy, confusion matrix and classification report. \n",
        "    \"\"\"\n",
        "\n",
        "    nb_classifier = model(alpha=alpha)\n",
        "    nb_classifier.fit(xtrain, ytrain)\n",
        "    pred = nb_classifier.predict(xtest)\n",
        "    print(\"\\n\\n -- Multinomial NB Model with Count Vectorizer --\")\n",
        "    print(\"\\n\")\n",
        "    mnb_cv_auc_score = roc_auc_score(ytest,pred)\n",
        "    print(\"-- Multinomial NB Model with Count Vectorizer AUC = %2.2f --\" % mnb_cv_auc_score)\n",
        "    score = metrics.accuracy_score(ytest,pred)\n",
        "    print(\"-- Multinomial NB Model with Count Vectorizer Accuracy = %2.2f --\" % score)\n",
        "    print(\"\\n\")\n",
        "    cm = metrics.confusion_matrix(ytest,pred, labels=[0, 1])\n",
        "    print(cm)\n",
        "    print(\"\\n\")\n",
        "    print(classification_report(ytest, pred))\n",
        "    "
      ],
      "execution_count": 5,
      "outputs": []
    },
    {
      "cell_type": "code",
      "metadata": {
        "id": "yFL7fC5TCP8c",
        "colab_type": "code",
        "colab": {}
      },
      "source": [
        "import pandas as pd \n",
        "import numpy as np\n",
        "import seaborn as sns\n",
        "import matplotlib.pyplot as plt\n",
        "import re\n",
        "import scipy.stats as stats\n",
        "import math\n",
        "from textblob import TextBlob\n",
        "from sklearn.model_selection import train_test_split\n",
        "from sklearn.feature_extraction.text import CountVectorizer\n",
        "from sklearn.feature_extraction.text import TfidfVectorizer\n",
        "from sklearn.naive_bayes import MultinomialNB\n",
        "from sklearn.metrics import roc_auc_score, classification_report, confusion_matrix\n",
        "from sklearn.metrics import auc\n",
        "from sklearn.linear_model import LogisticRegression\n",
        "import scipy.stats as stats\n",
        "import keras\n",
        "from keras.models import Sequential\n",
        "from keras.layers import Dense, Embedding, LSTM, SpatialDropout1D, Activation, Dropout\n",
        "from keras.callbacks import EarlyStopping\n",
        "from sklearn.model_selection import GridSearchCV\n",
        "from nltk.corpus import stopwords\n",
        "from nltk import word_tokenize\n",
        "from keras.preprocessing.text import Tokenizer\n",
        "from keras.preprocessing.sequence import pad_sequences\n",
        "from keras.utils.np_utils import to_categorical\n",
        "\n",
        "\n",
        "pd.set_option('display.max_columns', None)\n",
        "pd.set_option('display.max_rows', None)\n",
        "#pd.set_option('display.max_colwidth', -1)"
      ],
      "execution_count": 6,
      "outputs": []
    },
    {
      "cell_type": "code",
      "metadata": {
        "id": "rXuBUZIsCVC-",
        "colab_type": "code",
        "colab": {}
      },
      "source": [
        "df = pd.read_csv('train.csv')"
      ],
      "execution_count": 7,
      "outputs": []
    },
    {
      "cell_type": "code",
      "metadata": {
        "id": "DEWVrkI_T-Gt",
        "colab_type": "code",
        "colab": {
          "base_uri": "https://localhost:8080/",
          "height": 221
        },
        "outputId": "703a143b-87d0-41ab-b9b1-062e5bb5948c"
      },
      "source": [
        "print(df.shape)\n",
        "df.head(5)\n"
      ],
      "execution_count": 8,
      "outputs": [
        {
          "output_type": "stream",
          "text": [
            "(20800, 5)\n"
          ],
          "name": "stdout"
        },
        {
          "output_type": "execute_result",
          "data": {
            "text/html": [
              "<div>\n",
              "<style scoped>\n",
              "    .dataframe tbody tr th:only-of-type {\n",
              "        vertical-align: middle;\n",
              "    }\n",
              "\n",
              "    .dataframe tbody tr th {\n",
              "        vertical-align: top;\n",
              "    }\n",
              "\n",
              "    .dataframe thead th {\n",
              "        text-align: right;\n",
              "    }\n",
              "</style>\n",
              "<table border=\"1\" class=\"dataframe\">\n",
              "  <thead>\n",
              "    <tr style=\"text-align: right;\">\n",
              "      <th></th>\n",
              "      <th>id</th>\n",
              "      <th>title</th>\n",
              "      <th>author</th>\n",
              "      <th>text</th>\n",
              "      <th>label</th>\n",
              "    </tr>\n",
              "  </thead>\n",
              "  <tbody>\n",
              "    <tr>\n",
              "      <th>0</th>\n",
              "      <td>0</td>\n",
              "      <td>House Dem Aide: We Didn’t Even See Comey’s Let...</td>\n",
              "      <td>Darrell Lucus</td>\n",
              "      <td>House Dem Aide: We Didn’t Even See Comey’s Let...</td>\n",
              "      <td>1</td>\n",
              "    </tr>\n",
              "    <tr>\n",
              "      <th>1</th>\n",
              "      <td>1</td>\n",
              "      <td>FLYNN: Hillary Clinton, Big Woman on Campus - ...</td>\n",
              "      <td>Daniel J. Flynn</td>\n",
              "      <td>Ever get the feeling your life circles the rou...</td>\n",
              "      <td>0</td>\n",
              "    </tr>\n",
              "    <tr>\n",
              "      <th>2</th>\n",
              "      <td>2</td>\n",
              "      <td>Why the Truth Might Get You Fired</td>\n",
              "      <td>Consortiumnews.com</td>\n",
              "      <td>Why the Truth Might Get You Fired October 29, ...</td>\n",
              "      <td>1</td>\n",
              "    </tr>\n",
              "    <tr>\n",
              "      <th>3</th>\n",
              "      <td>3</td>\n",
              "      <td>15 Civilians Killed In Single US Airstrike Hav...</td>\n",
              "      <td>Jessica Purkiss</td>\n",
              "      <td>Videos 15 Civilians Killed In Single US Airstr...</td>\n",
              "      <td>1</td>\n",
              "    </tr>\n",
              "    <tr>\n",
              "      <th>4</th>\n",
              "      <td>4</td>\n",
              "      <td>Iranian woman jailed for fictional unpublished...</td>\n",
              "      <td>Howard Portnoy</td>\n",
              "      <td>Print \\nAn Iranian woman has been sentenced to...</td>\n",
              "      <td>1</td>\n",
              "    </tr>\n",
              "  </tbody>\n",
              "</table>\n",
              "</div>"
            ],
            "text/plain": [
              "   id                                              title              author  \\\n",
              "0   0  House Dem Aide: We Didn’t Even See Comey’s Let...       Darrell Lucus   \n",
              "1   1  FLYNN: Hillary Clinton, Big Woman on Campus - ...     Daniel J. Flynn   \n",
              "2   2                  Why the Truth Might Get You Fired  Consortiumnews.com   \n",
              "3   3  15 Civilians Killed In Single US Airstrike Hav...     Jessica Purkiss   \n",
              "4   4  Iranian woman jailed for fictional unpublished...      Howard Portnoy   \n",
              "\n",
              "                                                text  label  \n",
              "0  House Dem Aide: We Didn’t Even See Comey’s Let...      1  \n",
              "1  Ever get the feeling your life circles the rou...      0  \n",
              "2  Why the Truth Might Get You Fired October 29, ...      1  \n",
              "3  Videos 15 Civilians Killed In Single US Airstr...      1  \n",
              "4  Print \\nAn Iranian woman has been sentenced to...      1  "
            ]
          },
          "metadata": {
            "tags": []
          },
          "execution_count": 8
        }
      ]
    },
    {
      "cell_type": "code",
      "metadata": {
        "id": "X9Iw_NxMUBwL",
        "colab_type": "code",
        "colab": {
          "base_uri": "https://localhost:8080/",
          "height": 68
        },
        "outputId": "3cd8f202-c61f-41d4-aff7-5e099ea32299"
      },
      "source": [
        "df['label'].value_counts()"
      ],
      "execution_count": 17,
      "outputs": [
        {
          "output_type": "execute_result",
          "data": {
            "text/plain": [
              "1    10413\n",
              "0    10387\n",
              "Name: label, dtype: int64"
            ]
          },
          "metadata": {
            "tags": []
          },
          "execution_count": 17
        }
      ]
    },
    {
      "cell_type": "code",
      "metadata": {
        "id": "AWMhUFc-cjqk",
        "colab_type": "code",
        "colab": {
          "base_uri": "https://localhost:8080/",
          "height": 204
        },
        "outputId": "4d51f5ed-f739-433d-f35b-3cd9869278de"
      },
      "source": [
        "# change title to article_title\n",
        "df.rename(columns={\"title\": \"article_title\"}, inplace=True)\n",
        "df.head()"
      ],
      "execution_count": 9,
      "outputs": [
        {
          "output_type": "execute_result",
          "data": {
            "text/html": [
              "<div>\n",
              "<style scoped>\n",
              "    .dataframe tbody tr th:only-of-type {\n",
              "        vertical-align: middle;\n",
              "    }\n",
              "\n",
              "    .dataframe tbody tr th {\n",
              "        vertical-align: top;\n",
              "    }\n",
              "\n",
              "    .dataframe thead th {\n",
              "        text-align: right;\n",
              "    }\n",
              "</style>\n",
              "<table border=\"1\" class=\"dataframe\">\n",
              "  <thead>\n",
              "    <tr style=\"text-align: right;\">\n",
              "      <th></th>\n",
              "      <th>id</th>\n",
              "      <th>article_title</th>\n",
              "      <th>author</th>\n",
              "      <th>text</th>\n",
              "      <th>label</th>\n",
              "    </tr>\n",
              "  </thead>\n",
              "  <tbody>\n",
              "    <tr>\n",
              "      <th>0</th>\n",
              "      <td>0</td>\n",
              "      <td>House Dem Aide: We Didn’t Even See Comey’s Let...</td>\n",
              "      <td>Darrell Lucus</td>\n",
              "      <td>House Dem Aide: We Didn’t Even See Comey’s Let...</td>\n",
              "      <td>1</td>\n",
              "    </tr>\n",
              "    <tr>\n",
              "      <th>1</th>\n",
              "      <td>1</td>\n",
              "      <td>FLYNN: Hillary Clinton, Big Woman on Campus - ...</td>\n",
              "      <td>Daniel J. Flynn</td>\n",
              "      <td>Ever get the feeling your life circles the rou...</td>\n",
              "      <td>0</td>\n",
              "    </tr>\n",
              "    <tr>\n",
              "      <th>2</th>\n",
              "      <td>2</td>\n",
              "      <td>Why the Truth Might Get You Fired</td>\n",
              "      <td>Consortiumnews.com</td>\n",
              "      <td>Why the Truth Might Get You Fired October 29, ...</td>\n",
              "      <td>1</td>\n",
              "    </tr>\n",
              "    <tr>\n",
              "      <th>3</th>\n",
              "      <td>3</td>\n",
              "      <td>15 Civilians Killed In Single US Airstrike Hav...</td>\n",
              "      <td>Jessica Purkiss</td>\n",
              "      <td>Videos 15 Civilians Killed In Single US Airstr...</td>\n",
              "      <td>1</td>\n",
              "    </tr>\n",
              "    <tr>\n",
              "      <th>4</th>\n",
              "      <td>4</td>\n",
              "      <td>Iranian woman jailed for fictional unpublished...</td>\n",
              "      <td>Howard Portnoy</td>\n",
              "      <td>Print \\nAn Iranian woman has been sentenced to...</td>\n",
              "      <td>1</td>\n",
              "    </tr>\n",
              "  </tbody>\n",
              "</table>\n",
              "</div>"
            ],
            "text/plain": [
              "   id                                      article_title              author  \\\n",
              "0   0  House Dem Aide: We Didn’t Even See Comey’s Let...       Darrell Lucus   \n",
              "1   1  FLYNN: Hillary Clinton, Big Woman on Campus - ...     Daniel J. Flynn   \n",
              "2   2                  Why the Truth Might Get You Fired  Consortiumnews.com   \n",
              "3   3  15 Civilians Killed In Single US Airstrike Hav...     Jessica Purkiss   \n",
              "4   4  Iranian woman jailed for fictional unpublished...      Howard Portnoy   \n",
              "\n",
              "                                                text  label  \n",
              "0  House Dem Aide: We Didn’t Even See Comey’s Let...      1  \n",
              "1  Ever get the feeling your life circles the rou...      0  \n",
              "2  Why the Truth Might Get You Fired October 29, ...      1  \n",
              "3  Videos 15 Civilians Killed In Single US Airstr...      1  \n",
              "4  Print \\nAn Iranian woman has been sentenced to...      1  "
            ]
          },
          "metadata": {
            "tags": []
          },
          "execution_count": 9
        }
      ]
    },
    {
      "cell_type": "code",
      "metadata": {
        "id": "JWWj5h2acnX_",
        "colab_type": "code",
        "colab": {
          "base_uri": "https://localhost:8080/",
          "height": 204
        },
        "outputId": "b496e596-6855-4ba3-8274-e9b415bac459"
      },
      "source": [
        "# drop id column \n",
        "df.drop('id', axis=1, inplace=True)\n",
        "first_column = df['label']\n",
        "df.drop('label', axis=1,inplace=True)\n",
        "df.insert(0, 'label', first_column)\n",
        "df.head()"
      ],
      "execution_count": 10,
      "outputs": [
        {
          "output_type": "execute_result",
          "data": {
            "text/html": [
              "<div>\n",
              "<style scoped>\n",
              "    .dataframe tbody tr th:only-of-type {\n",
              "        vertical-align: middle;\n",
              "    }\n",
              "\n",
              "    .dataframe tbody tr th {\n",
              "        vertical-align: top;\n",
              "    }\n",
              "\n",
              "    .dataframe thead th {\n",
              "        text-align: right;\n",
              "    }\n",
              "</style>\n",
              "<table border=\"1\" class=\"dataframe\">\n",
              "  <thead>\n",
              "    <tr style=\"text-align: right;\">\n",
              "      <th></th>\n",
              "      <th>label</th>\n",
              "      <th>article_title</th>\n",
              "      <th>author</th>\n",
              "      <th>text</th>\n",
              "    </tr>\n",
              "  </thead>\n",
              "  <tbody>\n",
              "    <tr>\n",
              "      <th>0</th>\n",
              "      <td>1</td>\n",
              "      <td>House Dem Aide: We Didn’t Even See Comey’s Let...</td>\n",
              "      <td>Darrell Lucus</td>\n",
              "      <td>House Dem Aide: We Didn’t Even See Comey’s Let...</td>\n",
              "    </tr>\n",
              "    <tr>\n",
              "      <th>1</th>\n",
              "      <td>0</td>\n",
              "      <td>FLYNN: Hillary Clinton, Big Woman on Campus - ...</td>\n",
              "      <td>Daniel J. Flynn</td>\n",
              "      <td>Ever get the feeling your life circles the rou...</td>\n",
              "    </tr>\n",
              "    <tr>\n",
              "      <th>2</th>\n",
              "      <td>1</td>\n",
              "      <td>Why the Truth Might Get You Fired</td>\n",
              "      <td>Consortiumnews.com</td>\n",
              "      <td>Why the Truth Might Get You Fired October 29, ...</td>\n",
              "    </tr>\n",
              "    <tr>\n",
              "      <th>3</th>\n",
              "      <td>1</td>\n",
              "      <td>15 Civilians Killed In Single US Airstrike Hav...</td>\n",
              "      <td>Jessica Purkiss</td>\n",
              "      <td>Videos 15 Civilians Killed In Single US Airstr...</td>\n",
              "    </tr>\n",
              "    <tr>\n",
              "      <th>4</th>\n",
              "      <td>1</td>\n",
              "      <td>Iranian woman jailed for fictional unpublished...</td>\n",
              "      <td>Howard Portnoy</td>\n",
              "      <td>Print \\nAn Iranian woman has been sentenced to...</td>\n",
              "    </tr>\n",
              "  </tbody>\n",
              "</table>\n",
              "</div>"
            ],
            "text/plain": [
              "   label                                      article_title  \\\n",
              "0      1  House Dem Aide: We Didn’t Even See Comey’s Let...   \n",
              "1      0  FLYNN: Hillary Clinton, Big Woman on Campus - ...   \n",
              "2      1                  Why the Truth Might Get You Fired   \n",
              "3      1  15 Civilians Killed In Single US Airstrike Hav...   \n",
              "4      1  Iranian woman jailed for fictional unpublished...   \n",
              "\n",
              "               author                                               text  \n",
              "0       Darrell Lucus  House Dem Aide: We Didn’t Even See Comey’s Let...  \n",
              "1     Daniel J. Flynn  Ever get the feeling your life circles the rou...  \n",
              "2  Consortiumnews.com  Why the Truth Might Get You Fired October 29, ...  \n",
              "3     Jessica Purkiss  Videos 15 Civilians Killed In Single US Airstr...  \n",
              "4      Howard Portnoy  Print \\nAn Iranian woman has been sentenced to...  "
            ]
          },
          "metadata": {
            "tags": []
          },
          "execution_count": 10
        }
      ]
    },
    {
      "cell_type": "code",
      "metadata": {
        "id": "3XKdWLYOcwOG",
        "colab_type": "code",
        "colab": {
          "base_uri": "https://localhost:8080/",
          "height": 102
        },
        "outputId": "76effa9f-7e65-411f-b281-5b7431d7c4a9"
      },
      "source": [
        "# Inspect the the data types\n",
        "df.dtypes"
      ],
      "execution_count": 20,
      "outputs": [
        {
          "output_type": "execute_result",
          "data": {
            "text/plain": [
              "label             int64\n",
              "article_title    object\n",
              "author           object\n",
              "text             object\n",
              "dtype: object"
            ]
          },
          "metadata": {
            "tags": []
          },
          "execution_count": 20
        }
      ]
    },
    {
      "cell_type": "code",
      "metadata": {
        "id": "Qj5-pxGgc0jz",
        "colab_type": "code",
        "colab": {}
      },
      "source": [
        "\n",
        "df['text'] = preprocess(df['text'])"
      ],
      "execution_count": 11,
      "outputs": []
    },
    {
      "cell_type": "code",
      "metadata": {
        "id": "rKnT0w20c66W",
        "colab_type": "code",
        "colab": {
          "base_uri": "https://localhost:8080/",
          "height": 204
        },
        "outputId": "e08db088-aa38-40c3-d8c6-64918593f861"
      },
      "source": [
        "df['length'] = findlength(df, 'text')\n",
        "df.head()"
      ],
      "execution_count": 12,
      "outputs": [
        {
          "output_type": "execute_result",
          "data": {
            "text/html": [
              "<div>\n",
              "<style scoped>\n",
              "    .dataframe tbody tr th:only-of-type {\n",
              "        vertical-align: middle;\n",
              "    }\n",
              "\n",
              "    .dataframe tbody tr th {\n",
              "        vertical-align: top;\n",
              "    }\n",
              "\n",
              "    .dataframe thead th {\n",
              "        text-align: right;\n",
              "    }\n",
              "</style>\n",
              "<table border=\"1\" class=\"dataframe\">\n",
              "  <thead>\n",
              "    <tr style=\"text-align: right;\">\n",
              "      <th></th>\n",
              "      <th>label</th>\n",
              "      <th>article_title</th>\n",
              "      <th>author</th>\n",
              "      <th>text</th>\n",
              "      <th>length</th>\n",
              "    </tr>\n",
              "  </thead>\n",
              "  <tbody>\n",
              "    <tr>\n",
              "      <th>0</th>\n",
              "      <td>1</td>\n",
              "      <td>House Dem Aide: We Didn’t Even See Comey’s Let...</td>\n",
              "      <td>Darrell Lucus</td>\n",
              "      <td>House Dem Aide: We Didn’t Even See Comey’s Let...</td>\n",
              "      <td>4886</td>\n",
              "    </tr>\n",
              "    <tr>\n",
              "      <th>1</th>\n",
              "      <td>0</td>\n",
              "      <td>FLYNN: Hillary Clinton, Big Woman on Campus - ...</td>\n",
              "      <td>Daniel J. Flynn</td>\n",
              "      <td>Ever get the feeling your life circles the rou...</td>\n",
              "      <td>4143</td>\n",
              "    </tr>\n",
              "    <tr>\n",
              "      <th>2</th>\n",
              "      <td>1</td>\n",
              "      <td>Why the Truth Might Get You Fired</td>\n",
              "      <td>Consortiumnews.com</td>\n",
              "      <td>Why the Truth Might Get You Fired October 29, ...</td>\n",
              "      <td>7670</td>\n",
              "    </tr>\n",
              "    <tr>\n",
              "      <th>3</th>\n",
              "      <td>1</td>\n",
              "      <td>15 Civilians Killed In Single US Airstrike Hav...</td>\n",
              "      <td>Jessica Purkiss</td>\n",
              "      <td>Videos 15 Civilians Killed In Single US Airstr...</td>\n",
              "      <td>3223</td>\n",
              "    </tr>\n",
              "    <tr>\n",
              "      <th>4</th>\n",
              "      <td>1</td>\n",
              "      <td>Iranian woman jailed for fictional unpublished...</td>\n",
              "      <td>Howard Portnoy</td>\n",
              "      <td>Print An Iranian woman has been sentenced to s...</td>\n",
              "      <td>934</td>\n",
              "    </tr>\n",
              "  </tbody>\n",
              "</table>\n",
              "</div>"
            ],
            "text/plain": [
              "   label                                      article_title  \\\n",
              "0      1  House Dem Aide: We Didn’t Even See Comey’s Let...   \n",
              "1      0  FLYNN: Hillary Clinton, Big Woman on Campus - ...   \n",
              "2      1                  Why the Truth Might Get You Fired   \n",
              "3      1  15 Civilians Killed In Single US Airstrike Hav...   \n",
              "4      1  Iranian woman jailed for fictional unpublished...   \n",
              "\n",
              "               author                                               text  \\\n",
              "0       Darrell Lucus  House Dem Aide: We Didn’t Even See Comey’s Let...   \n",
              "1     Daniel J. Flynn  Ever get the feeling your life circles the rou...   \n",
              "2  Consortiumnews.com  Why the Truth Might Get You Fired October 29, ...   \n",
              "3     Jessica Purkiss  Videos 15 Civilians Killed In Single US Airstr...   \n",
              "4      Howard Portnoy  Print An Iranian woman has been sentenced to s...   \n",
              "\n",
              "   length  \n",
              "0    4886  \n",
              "1    4143  \n",
              "2    7670  \n",
              "3    3223  \n",
              "4     934  "
            ]
          },
          "metadata": {
            "tags": []
          },
          "execution_count": 12
        }
      ]
    },
    {
      "cell_type": "code",
      "metadata": {
        "id": "L_bCGVNtdLd-",
        "colab_type": "code",
        "colab": {
          "base_uri": "https://localhost:8080/",
          "height": 367
        },
        "outputId": "38dee4e7-b640-48a5-86f2-c65ffeca3e75"
      },
      "source": [
        "\n",
        "null_plot(df,'barh')"
      ],
      "execution_count": 13,
      "outputs": [
        {
          "output_type": "stream",
          "text": [
            "author           1957\n",
            "article_title     558\n",
            "length              0\n",
            "text                0\n",
            "label               0\n",
            "dtype: int64\n"
          ],
          "name": "stdout"
        },
        {
          "output_type": "display_data",
          "data": {
            "image/png": "[encoded data removed]",
            "text/plain": [
              "<Figure size 432x288 with 1 Axes>"
            ]
          },
          "metadata": {
            "tags": [],
            "needs_background": "light"
          }
        }
      ]
    },
    {
      "cell_type": "code",
      "metadata": {
        "id": "_SPiM9DkdNwJ",
        "colab_type": "code",
        "colab": {}
      },
      "source": [
        "\n",
        "values = {'author' : 'Unknown', 'article_title': 'Unknown'}\n",
        "df.fillna(value=values, inplace=True)"
      ],
      "execution_count": 14,
      "outputs": []
    },
    {
      "cell_type": "code",
      "metadata": {
        "id": "8GDg1VcGdTsF",
        "colab_type": "code",
        "colab": {
          "base_uri": "https://localhost:8080/",
          "height": 367
        },
        "outputId": "bcdb3403-af76-48d5-c606-bb5f592786da"
      },
      "source": [
        "null_plot(df,'barh')"
      ],
      "execution_count": 25,
      "outputs": [
        {
          "output_type": "stream",
          "text": [
            "length           0\n",
            "text             0\n",
            "author           0\n",
            "article_title    0\n",
            "label            0\n",
            "dtype: int64\n"
          ],
          "name": "stdout"
        },
        {
          "output_type": "display_data",
          "data": {
            "image/png": "[encoded data removed]",
            "text/plain": [
              "<Figure size 432x288 with 1 Axes>"
            ]
          },
          "metadata": {
            "tags": [],
            "needs_background": "light"
          }
        }
      ]
    },
    {
      "cell_type": "code",
      "metadata": {
        "id": "dRssGjwldWhi",
        "colab_type": "code",
        "colab": {}
      },
      "source": [
        "\n",
        "# Drop rows that have article length less than 50 characters\n",
        "df.drop(df[df['length'] < 50].index, inplace = True)"
      ],
      "execution_count": 15,
      "outputs": []
    },
    {
      "cell_type": "code",
      "metadata": {
        "id": "dfMfdwvqdZbq",
        "colab_type": "code",
        "colab": {
          "base_uri": "https://localhost:8080/",
          "height": 221
        },
        "outputId": "1feebce7-c8f7-41be-cdfb-7bf15d762892"
      },
      "source": [
        "print(df.shape)\n",
        "df.head(5)"
      ],
      "execution_count": 27,
      "outputs": [
        {
          "output_type": "stream",
          "text": [
            "(20554, 5)\n"
          ],
          "name": "stdout"
        },
        {
          "output_type": "execute_result",
          "data": {
            "text/html": [
              "<div>\n",
              "<style scoped>\n",
              "    .dataframe tbody tr th:only-of-type {\n",
              "        vertical-align: middle;\n",
              "    }\n",
              "\n",
              "    .dataframe tbody tr th {\n",
              "        vertical-align: top;\n",
              "    }\n",
              "\n",
              "    .dataframe thead th {\n",
              "        text-align: right;\n",
              "    }\n",
              "</style>\n",
              "<table border=\"1\" class=\"dataframe\">\n",
              "  <thead>\n",
              "    <tr style=\"text-align: right;\">\n",
              "      <th></th>\n",
              "      <th>label</th>\n",
              "      <th>article_title</th>\n",
              "      <th>author</th>\n",
              "      <th>text</th>\n",
              "      <th>length</th>\n",
              "    </tr>\n",
              "  </thead>\n",
              "  <tbody>\n",
              "    <tr>\n",
              "      <th>0</th>\n",
              "      <td>1</td>\n",
              "      <td>House Dem Aide: We Didn’t Even See Comey’s Let...</td>\n",
              "      <td>Darrell Lucus</td>\n",
              "      <td>House Dem Aide: We Didn’t Even See Comey’s Let...</td>\n",
              "      <td>4886</td>\n",
              "    </tr>\n",
              "    <tr>\n",
              "      <th>1</th>\n",
              "      <td>0</td>\n",
              "      <td>FLYNN: Hillary Clinton, Big Woman on Campus - ...</td>\n",
              "      <td>Daniel J. Flynn</td>\n",
              "      <td>Ever get the feeling your life circles the rou...</td>\n",
              "      <td>4143</td>\n",
              "    </tr>\n",
              "    <tr>\n",
              "      <th>2</th>\n",
              "      <td>1</td>\n",
              "      <td>Why the Truth Might Get You Fired</td>\n",
              "      <td>Consortiumnews.com</td>\n",
              "      <td>Why the Truth Might Get You Fired October 29, ...</td>\n",
              "      <td>7670</td>\n",
              "    </tr>\n",
              "    <tr>\n",
              "      <th>3</th>\n",
              "      <td>1</td>\n",
              "      <td>15 Civilians Killed In Single US Airstrike Hav...</td>\n",
              "      <td>Jessica Purkiss</td>\n",
              "      <td>Videos 15 Civilians Killed In Single US Airstr...</td>\n",
              "      <td>3223</td>\n",
              "    </tr>\n",
              "    <tr>\n",
              "      <th>4</th>\n",
              "      <td>1</td>\n",
              "      <td>Iranian woman jailed for fictional unpublished...</td>\n",
              "      <td>Howard Portnoy</td>\n",
              "      <td>Print An Iranian woman has been sentenced to s...</td>\n",
              "      <td>934</td>\n",
              "    </tr>\n",
              "  </tbody>\n",
              "</table>\n",
              "</div>"
            ],
            "text/plain": [
              "   label                                      article_title  \\\n",
              "0      1  House Dem Aide: We Didn’t Even See Comey’s Let...   \n",
              "1      0  FLYNN: Hillary Clinton, Big Woman on Campus - ...   \n",
              "2      1                  Why the Truth Might Get You Fired   \n",
              "3      1  15 Civilians Killed In Single US Airstrike Hav...   \n",
              "4      1  Iranian woman jailed for fictional unpublished...   \n",
              "\n",
              "               author                                               text  \\\n",
              "0       Darrell Lucus  House Dem Aide: We Didn’t Even See Comey’s Let...   \n",
              "1     Daniel J. Flynn  Ever get the feeling your life circles the rou...   \n",
              "2  Consortiumnews.com  Why the Truth Might Get You Fired October 29, ...   \n",
              "3     Jessica Purkiss  Videos 15 Civilians Killed In Single US Airstr...   \n",
              "4      Howard Portnoy  Print An Iranian woman has been sentenced to s...   \n",
              "\n",
              "   length  \n",
              "0    4886  \n",
              "1    4143  \n",
              "2    7670  \n",
              "3    3223  \n",
              "4     934  "
            ]
          },
          "metadata": {
            "tags": []
          },
          "execution_count": 27
        }
      ]
    },
    {
      "cell_type": "code",
      "metadata": {
        "id": "fTIJArgFdb6n",
        "colab_type": "code",
        "colab": {}
      },
      "source": [
        "df['text_polarity'] = df['text'].apply(lambda x: TextBlob(x).sentiment.polarity)"
      ],
      "execution_count": 16,
      "outputs": []
    },
    {
      "cell_type": "code",
      "metadata": {
        "id": "5-Iq5j7Pdfk-",
        "colab_type": "code",
        "colab": {
          "base_uri": "https://localhost:8080/",
          "height": 204
        },
        "outputId": "f6a57b08-8515-41bf-ad02-79bac7087c05"
      },
      "source": [
        "df.head()"
      ],
      "execution_count": 29,
      "outputs": [
        {
          "output_type": "execute_result",
          "data": {
            "text/html": [
              "<div>\n",
              "<style scoped>\n",
              "    .dataframe tbody tr th:only-of-type {\n",
              "        vertical-align: middle;\n",
              "    }\n",
              "\n",
              "    .dataframe tbody tr th {\n",
              "        vertical-align: top;\n",
              "    }\n",
              "\n",
              "    .dataframe thead th {\n",
              "        text-align: right;\n",
              "    }\n",
              "</style>\n",
              "<table border=\"1\" class=\"dataframe\">\n",
              "  <thead>\n",
              "    <tr style=\"text-align: right;\">\n",
              "      <th></th>\n",
              "      <th>label</th>\n",
              "      <th>article_title</th>\n",
              "      <th>author</th>\n",
              "      <th>text</th>\n",
              "      <th>length</th>\n",
              "      <th>text_polarity</th>\n",
              "    </tr>\n",
              "  </thead>\n",
              "  <tbody>\n",
              "    <tr>\n",
              "      <th>0</th>\n",
              "      <td>1</td>\n",
              "      <td>House Dem Aide: We Didn’t Even See Comey’s Let...</td>\n",
              "      <td>Darrell Lucus</td>\n",
              "      <td>House Dem Aide: We Didn’t Even See Comey’s Let...</td>\n",
              "      <td>4886</td>\n",
              "      <td>0.001796</td>\n",
              "    </tr>\n",
              "    <tr>\n",
              "      <th>1</th>\n",
              "      <td>0</td>\n",
              "      <td>FLYNN: Hillary Clinton, Big Woman on Campus - ...</td>\n",
              "      <td>Daniel J. Flynn</td>\n",
              "      <td>Ever get the feeling your life circles the rou...</td>\n",
              "      <td>4143</td>\n",
              "      <td>0.100880</td>\n",
              "    </tr>\n",
              "    <tr>\n",
              "      <th>2</th>\n",
              "      <td>1</td>\n",
              "      <td>Why the Truth Might Get You Fired</td>\n",
              "      <td>Consortiumnews.com</td>\n",
              "      <td>Why the Truth Might Get You Fired October 29, ...</td>\n",
              "      <td>7670</td>\n",
              "      <td>0.056258</td>\n",
              "    </tr>\n",
              "    <tr>\n",
              "      <th>3</th>\n",
              "      <td>1</td>\n",
              "      <td>15 Civilians Killed In Single US Airstrike Hav...</td>\n",
              "      <td>Jessica Purkiss</td>\n",
              "      <td>Videos 15 Civilians Killed In Single US Airstr...</td>\n",
              "      <td>3223</td>\n",
              "      <td>0.017497</td>\n",
              "    </tr>\n",
              "    <tr>\n",
              "      <th>4</th>\n",
              "      <td>1</td>\n",
              "      <td>Iranian woman jailed for fictional unpublished...</td>\n",
              "      <td>Howard Portnoy</td>\n",
              "      <td>Print An Iranian woman has been sentenced to s...</td>\n",
              "      <td>934</td>\n",
              "      <td>-0.012500</td>\n",
              "    </tr>\n",
              "  </tbody>\n",
              "</table>\n",
              "</div>"
            ],
            "text/plain": [
              "   label                                      article_title  \\\n",
              "0      1  House Dem Aide: We Didn’t Even See Comey’s Let...   \n",
              "1      0  FLYNN: Hillary Clinton, Big Woman on Campus - ...   \n",
              "2      1                  Why the Truth Might Get You Fired   \n",
              "3      1  15 Civilians Killed In Single US Airstrike Hav...   \n",
              "4      1  Iranian woman jailed for fictional unpublished...   \n",
              "\n",
              "               author                                               text  \\\n",
              "0       Darrell Lucus  House Dem Aide: We Didn’t Even See Comey’s Let...   \n",
              "1     Daniel J. Flynn  Ever get the feeling your life circles the rou...   \n",
              "2  Consortiumnews.com  Why the Truth Might Get You Fired October 29, ...   \n",
              "3     Jessica Purkiss  Videos 15 Civilians Killed In Single US Airstr...   \n",
              "4      Howard Portnoy  Print An Iranian woman has been sentenced to s...   \n",
              "\n",
              "   length  text_polarity  \n",
              "0    4886       0.001796  \n",
              "1    4143       0.100880  \n",
              "2    7670       0.056258  \n",
              "3    3223       0.017497  \n",
              "4     934      -0.012500  "
            ]
          },
          "metadata": {
            "tags": []
          },
          "execution_count": 29
        }
      ]
    },
    {
      "cell_type": "code",
      "metadata": {
        "id": "UBT3epNzdhjf",
        "colab_type": "code",
        "colab": {}
      },
      "source": [
        "neg_tp = df[df['text_polarity'] < 0]\n",
        "pos_tp = df[df['text_polarity'] > 0]"
      ],
      "execution_count": 17,
      "outputs": []
    },
    {
      "cell_type": "code",
      "metadata": {
        "id": "4QfgPEUpdjvt",
        "colab_type": "code",
        "colab": {}
      },
      "source": [
        "fake_df = df[df['label'] == 0]\n",
        "real_df = df[df['label'] == 1]"
      ],
      "execution_count": 18,
      "outputs": []
    },
    {
      "cell_type": "code",
      "metadata": {
        "id": "6tJX7JDadmE2",
        "colab_type": "code",
        "colab": {
          "base_uri": "https://localhost:8080/",
          "height": 437
        },
        "outputId": "b04c6328-292d-478a-fac6-a5a2373840d0"
      },
      "source": [
        "dist_plot(df, 'text_polarity', 'Distribution of text polarity across all articles', 'all articles')"
      ],
      "execution_count": 32,
      "outputs": [
        {
          "output_type": "stream",
          "text": [
            "The mean of text polarity in all articles is: 0.071\n",
            "The median of text polarity in all articles is: 0.071\n"
          ],
          "name": "stdout"
        },
        {
          "output_type": "display_data",
          "data": {
            "image/png": "[encoded data removed]",
            "text/plain": [
              "<Figure size 864x432 with 1 Axes>"
            ]
          },
          "metadata": {
            "tags": [],
            "needs_background": "light"
          }
        }
      ]
    },
    {
      "cell_type": "code",
      "metadata": {
        "id": "qAdilCOMdoKm",
        "colab_type": "code",
        "colab": {
          "base_uri": "https://localhost:8080/",
          "height": 437
        },
        "outputId": "9fac3401-cff3-4a5d-8b68-dc2ee9ac4a1c"
      },
      "source": [
        "dist_plot(real_df, 'text_polarity', 'Distribution of text polarity of real text articles', 'real articles')"
      ],
      "execution_count": 33,
      "outputs": [
        {
          "output_type": "stream",
          "text": [
            "The mean of text polarity in real articles is: 0.069\n",
            "The median of text polarity in real articles is: 0.065\n"
          ],
          "name": "stdout"
        },
        {
          "output_type": "display_data",
          "data": {
            "image/png": "[encoded data removed]",
            "text/plain": [
              "<Figure size 864x432 with 1 Axes>"
            ]
          },
          "metadata": {
            "tags": [],
            "needs_background": "light"
          }
        }
      ]
    },
    {
      "cell_type": "code",
      "metadata": {
        "id": "gz2Qw0nTdrLn",
        "colab_type": "code",
        "colab": {
          "base_uri": "https://localhost:8080/",
          "height": 437
        },
        "outputId": "45cd0354-6d40-4794-bb10-70189edc9ca6"
      },
      "source": [
        "\n",
        "dist_plot(fake_df, 'text_polarity', 'Distribution of text polarity of fake text articles', 'fake articles')"
      ],
      "execution_count": 34,
      "outputs": [
        {
          "output_type": "stream",
          "text": [
            "The mean of text polarity in fake articles is: 0.074\n",
            "The median of text polarity in fake articles is: 0.075\n"
          ],
          "name": "stdout"
        },
        {
          "output_type": "display_data",
          "data": {
            "image/png": "[encoded data removed]",
            "text/plain": [
              "<Figure size 864x432 with 1 Axes>"
            ]
          },
          "metadata": {
            "tags": [],
            "needs_background": "light"
          }
        }
      ]
    },
    {
      "cell_type": "code",
      "metadata": {
        "id": "TyY55KOwdt8g",
        "colab_type": "code",
        "colab": {
          "base_uri": "https://localhost:8080/",
          "height": 275
        },
        "outputId": "81e767f3-e50f-4bb6-d538-0f2aef67e315"
      },
      "source": [
        "# Create a heatmap \n",
        "corr = df.corr()\n",
        "sns.heatmap(corr, annot=True)\n",
        "plt.show()"
      ],
      "execution_count": 19,
      "outputs": [
        {
          "output_type": "display_data",
          "data": {
            "image/png": "[encoded data removed]",
            "text/plain": [
              "<Figure size 432x288 with 2 Axes>"
            ]
          },
          "metadata": {
            "tags": [],
            "needs_background": "light"
          }
        }
      ]
    },
    {
      "cell_type": "code",
      "metadata": {
        "id": "mVHYXlpedyb6",
        "colab_type": "code",
        "colab": {
          "base_uri": "https://localhost:8080/",
          "height": 393
        },
        "outputId": "908234a5-2e23-4667-c3ca-16e7069160d9"
      },
      "source": [
        "\n",
        "fig, (ax1, ax2) = plt.subplots(1, 2, figsize=(12,5))\n",
        "\n",
        "# Top unigrams before removing stop words (sw)\n",
        "\n",
        "uni_words_sw = get_top_n_words(df['text'], 20)\n",
        "\n",
        "df1 = pd.DataFrame(uni_words_sw, columns=['article_text', 'count'])\n",
        "df1.groupby('article_text').sum()['count'].sort_values(ascending=False).plot(kind='bar', \n",
        "                                                                            title='Top 20 words in article text before removing stop words', ax=ax1)\n",
        "ax1.set(ylabel='Count')\n",
        "ax1.spines['right'].set_visible(False)\n",
        "ax1.spines['top'].set_visible(False)\n",
        "\n",
        "# Top unigrams after removing stop words\n",
        "uni_words_no_sw = get_top_n_words_nosw(df['text'], 20)\n",
        "\n",
        "df2 = pd.DataFrame(uni_words_no_sw, columns=['article_text', 'count'])\n",
        "ax2.set(ylabel='Count')\n",
        "df2.groupby('article_text').sum()['count'].sort_values(ascending=False).plot(kind='bar', \n",
        "                                                                            title='Top 20 words in article text after removing stop words', ax=ax2)\n",
        "ax2.spines['right'].set_visible(False)\n",
        "ax2.spines['top'].set_visible(False)\n",
        "plt.show()"
      ],
      "execution_count": 36,
      "outputs": [
        {
          "output_type": "display_data",
          "data": {
            "image/png": "[encoded data removed]",
            "text/plain": [
              "<Figure size 864x360 with 2 Axes>"
            ]
          },
          "metadata": {
            "tags": [],
            "needs_background": "light"
          }
        }
      ]
    },
    {
      "cell_type": "code",
      "metadata": {
        "id": "X5fBf7wOeFtH",
        "colab_type": "code",
        "colab": {
          "base_uri": "https://localhost:8080/",
          "height": 436
        },
        "outputId": "92ab2eaf-ce56-4853-d881-3d5dbbde1fb7"
      },
      "source": [
        "fig, (ax1, ax2) = plt.subplots(1, 2, figsize=(12,5))\n",
        "\n",
        "# Top bigrams before removing stop words\n",
        "\n",
        "bi_words_sw = get_top_n_bigram(df['text'], 20)\n",
        "\n",
        "df3 = pd.DataFrame(bi_words_sw, columns=['article_text', 'count'])\n",
        "df3.groupby('article_text').sum()['count'].sort_values(ascending=False).plot(kind='bar', \n",
        "                                                                            title='Top 20 bigrams in article text before removing stop words',\n",
        "                                                                            ax=ax1)\n",
        "ax1.spines['right'].set_visible(False)\n",
        "ax1.spines['top'].set_visible(False)\n",
        "ax1.set(ylabel= 'Count')\n",
        "\n",
        "# Top bigrams after removing stop words\n",
        "bi_words_nosw = get_top_n_bigram_nosw(df['text'], 20)\n",
        "\n",
        "df4 = pd.DataFrame(bi_words_nosw, columns=['article_text', 'count'])\n",
        "df4.groupby('article_text').sum()['count'].sort_values(ascending=False).plot(kind='bar', \n",
        "                                                                            title='Top 20 bigrams in article text after removing stop words',\n",
        "                                                                            ax=ax2)\n",
        "ax2.spines['right'].set_visible(False)\n",
        "ax2.spines['top'].set_visible(False)\n",
        "ax2.set(ylabel = 'Count')\n",
        "plt.show()"
      ],
      "execution_count": 37,
      "outputs": [
        {
          "output_type": "display_data",
          "data": {
            "image/png": "[encoded data removed]",
            "text/plain": [
              "<Figure size 864x360 with 2 Axes>"
            ]
          },
          "metadata": {
            "tags": [],
            "needs_background": "light"
          }
        }
      ]
    },
    {
      "cell_type": "code",
      "metadata": {
        "id": "4up-H7x7eKBu",
        "colab_type": "code",
        "colab": {
          "base_uri": "https://localhost:8080/",
          "height": 453
        },
        "outputId": "7f6e879a-210a-4458-e723-96599abe0046"
      },
      "source": [
        "fig, (ax1, ax2) = plt.subplots(1, 2, figsize=(12,5))\n",
        "\n",
        "# Top trigrams before removing stop words\n",
        "\n",
        "tri_words_sw = get_top_n_trigram(df['text'], 20)\n",
        "\n",
        "df5 = pd.DataFrame(tri_words_sw, columns=['article_text', 'count'])\n",
        "df5.groupby('article_text').sum()['count'].sort_values(ascending=False).plot(kind='bar', \n",
        "                                                                            title='Top 20 trigrams in article text before removing stop words',\n",
        "                                                                            ax=ax1)\n",
        "ax1.spines['right'].set_visible(False)\n",
        "ax1.spines['top'].set_visible(False)\n",
        "ax1.set(ylabel= 'Count')\n",
        "\n",
        "# Top trigrams after removing stop words\n",
        "tri_words_nosw = get_top_n_trigram_nosw(df['text'], 20)\n",
        "\n",
        "df6 = pd.DataFrame(tri_words_nosw, columns=['article_text', 'count'])\n",
        "df6.groupby('article_text').sum()['count'].sort_values(ascending=False).plot(kind='bar', \n",
        "                                                                            title='Top 20 trigrams in article text after removing stop words',\n",
        "                                                                            ax=ax2)\n",
        "ax2.spines['right'].set_visible(False)\n",
        "ax2.spines['top'].set_visible(False)\n",
        "ax2.set(ylabel = 'Count')\n",
        "plt.show()"
      ],
      "execution_count": 40,
      "outputs": [
        {
          "output_type": "display_data",
          "data": {
            "image/png": "[encoded data removed]",
            "text/plain": [
              "<Figure size 864x360 with 2 Axes>"
            ]
          },
          "metadata": {
            "tags": [],
            "needs_background": "light"
          }
        }
      ]
    },
    {
      "cell_type": "code",
      "metadata": {
        "id": "ypNvNP5PeUz0",
        "colab_type": "code",
        "colab": {
          "base_uri": "https://localhost:8080/",
          "height": 393
        },
        "outputId": "0a24f74b-18d3-4631-fd6a-76915bdb4347"
      },
      "source": [
        "fig, (ax1, ax2) = plt.subplots(1, 2, figsize=(12,5))\n",
        "\n",
        "# Top unigrams before removing stop words (sw) in fake articles' text \n",
        "\n",
        "fake_uni_words_sw = get_top_n_words(fake_df['text'], 20)\n",
        "\n",
        "df_fake_1 = pd.DataFrame(fake_uni_words_sw, columns=['article_text', 'count'])\n",
        "df_fake_1.groupby('article_text').sum()['count'].sort_values(ascending=False).plot(kind='bar', \n",
        "                                                                            title='Top 20 words in fake article text before removing stop words', ax=ax1)\n",
        "\n",
        "ax1.set(ylabel='Count')\n",
        "ax1.spines['right'].set_visible(False)\n",
        "ax1.spines['top'].set_visible(False)\n",
        "# Top unigrams after removing stop words (sw) in fake articles' text \n",
        "fake_uni_words_no_sw = get_top_n_words_nosw(fake_df['text'], 20)\n",
        "\n",
        "df_fake_2 = pd.DataFrame(fake_uni_words_no_sw, columns=['article_text', 'count'])\n",
        "df_fake_2.groupby('article_text').sum()['count'].sort_values(ascending=False).plot(kind='bar', \n",
        "                                                                            title='Top 20 words in fake article text after removing stop words', ax=ax2)\n",
        "ax2.set(ylabel='Count')\n",
        "ax2.spines['right'].set_visible(False)\n",
        "ax2.spines['top'].set_visible(False)\n",
        "plt.show()"
      ],
      "execution_count": 39,
      "outputs": [
        {
          "output_type": "display_data",
          "data": {
            "image/png": "[encoded data removed]",
            "text/plain": [
              "<Figure size 864x360 with 2 Axes>"
            ]
          },
          "metadata": {
            "tags": [],
            "needs_background": "light"
          }
        }
      ]
    },
    {
      "cell_type": "code",
      "metadata": {
        "id": "OpSd-XfaeZXs",
        "colab_type": "code",
        "colab": {
          "base_uri": "https://localhost:8080/",
          "height": 436
        },
        "outputId": "1786885b-99ee-4cba-abfa-95f11c82d3a6"
      },
      "source": [
        "fig, (ax1, ax2) = plt.subplots(1, 2, figsize=(12,5))\n",
        "\n",
        "# Top bigrams before removing stop words\n",
        "\n",
        "fake_bi_words_sw = get_top_n_bigram(fake_df['text'], 20)\n",
        "\n",
        "df_fake_3 = pd.DataFrame(fake_bi_words_sw, columns=['article_text', 'count'])\n",
        "df_fake_3.groupby('article_text').sum()['count'].sort_values(ascending=False).plot(kind='bar', \n",
        "                                                                            title='Top 20 bigrams in fake article text before removing stop words',\n",
        "                                                                            ax=ax1)\n",
        "ax1.spines['right'].set_visible(False)\n",
        "ax1.spines['top'].set_visible(False)\n",
        "ax1.set(ylabel= 'Count')\n",
        "\n",
        "# Top bigrams after removing stop words\n",
        "fake_bi_words_nosw = get_top_n_bigram_nosw(fake_df['text'], 20)\n",
        "\n",
        "df_fake_4 = pd.DataFrame(fake_bi_words_nosw, columns=['article_text', 'count'])\n",
        "df_fake_4.groupby('article_text').sum()['count'].sort_values(ascending=False).plot(kind='bar', \n",
        "                                                                            title='Top 20 bigrams in fake article text after removing stop words',\n",
        "                                                                            ax=ax2)\n",
        "ax2.spines['right'].set_visible(False)\n",
        "ax2.spines['top'].set_visible(False)\n",
        "ax2.set(ylabel = 'Count')\n",
        "plt.show()"
      ],
      "execution_count": 41,
      "outputs": [
        {
          "output_type": "display_data",
          "data": {
            "image/png": "[encoded data removed]",
            "text/plain": [
              "<Figure size 864x360 with 2 Axes>"
            ]
          },
          "metadata": {
            "tags": [],
            "needs_background": "light"
          }
        }
      ]
    },
    {
      "cell_type": "code",
      "metadata": {
        "id": "cAzdjhDTedYY",
        "colab_type": "code",
        "colab": {
          "base_uri": "https://localhost:8080/",
          "height": 453
        },
        "outputId": "0ad3af14-793e-4cc6-abe7-f8761ae4a799"
      },
      "source": [
        "fig, (ax1, ax2) = plt.subplots(1, 2, figsize=(12,5))\n",
        "\n",
        "# Top trigrams before removing stop words\n",
        "\n",
        "fake_tri_words_sw = get_top_n_trigram(df['text'], 20)\n",
        "\n",
        "df_fake_5 = pd.DataFrame(fake_tri_words_sw, columns=['article_text', 'count'])\n",
        "df_fake_5.groupby('article_text').sum()['count'].sort_values(ascending=False).plot(kind='bar', \n",
        "                                                                            title='Top 20 trigrams in fake article text before removing stop words',\n",
        "                                                                            ax=ax1)\n",
        "ax1.spines['right'].set_visible(False)\n",
        "ax1.spines['top'].set_visible(False)\n",
        "ax1.set(ylabel= 'Count')\n",
        "\n",
        "# Top trigrams after removing stop words\n",
        "fake_tri_words_nosw = get_top_n_trigram_nosw(df['text'], 20)\n",
        "\n",
        "df_fake_6 = pd.DataFrame(fake_tri_words_nosw, columns=['article_text', 'count'])\n",
        "df_fake_6.groupby('article_text').sum()['count'].sort_values(ascending=False).plot(kind='bar', \n",
        "                                                                            title='Top 20 trigrams in fake article text after removing stop words',\n",
        "                                                                            ax=ax2)\n",
        "ax2.spines['right'].set_visible(False)\n",
        "ax2.spines['top'].set_visible(False)\n",
        "ax2.set(ylabel = 'Count')\n",
        "plt.show()"
      ],
      "execution_count": 42,
      "outputs": [
        {
          "output_type": "display_data",
          "data": {
            "image/png": "[encoded data removed]",
            "text/plain": [
              "<Figure size 864x360 with 2 Axes>"
            ]
          },
          "metadata": {
            "tags": [],
            "needs_background": "light"
          }
        }
      ]
    },
    {
      "cell_type": "code",
      "metadata": {
        "id": "vmVng3pjegfm",
        "colab_type": "code",
        "colab": {
          "base_uri": "https://localhost:8080/",
          "height": 393
        },
        "outputId": "7bda7675-490e-4939-d56d-5cb0a36e71ed"
      },
      "source": [
        "fig, (ax1, ax2) = plt.subplots(1, 2, figsize=(12,5))\n",
        "\n",
        "# Top unigrams before removing stop words (sw) in real articles' text \n",
        "\n",
        "real_uni_words_sw = get_top_n_words(real_df['text'], 20)\n",
        "\n",
        "df_real_1 = pd.DataFrame(real_uni_words_sw, columns=['article_text', 'count'])\n",
        "df_real_1.groupby('article_text').sum()['count'].sort_values(ascending=False).plot(kind='bar', \n",
        "                                                                            title='Top 20 words in real article text before removing stop words', ax=ax1)\n",
        "ax1.set(ylabel='Count')\n",
        "ax1.spines['right'].set_visible(False)\n",
        "ax1.spines['top'].set_visible(False)\n",
        "\n",
        "# Top unigrams after removing stop words (sw) in real articles' text \n",
        "real_uni_words_no_sw = get_top_n_words_nosw(real_df['text'], 20)\n",
        "\n",
        "df_real_2 = pd.DataFrame(real_uni_words_no_sw, columns=['article_text', 'count'])\n",
        "df_real_2.groupby('article_text').sum()['count'].sort_values(ascending=False).plot(kind='bar', \n",
        "                                                                            title='Top 20 words in real article text after removing stop words', ax=ax2)\n",
        "ax2.set(ylabel='Count')\n",
        "ax2.spines['right'].set_visible(False)\n",
        "ax2.spines['top'].set_visible(False)\n",
        "plt.show()"
      ],
      "execution_count": 43,
      "outputs": [
        {
          "output_type": "display_data",
          "data": {
            "image/png": "[encoded data removed]",
            "text/plain": [
              "<Figure size 864x360 with 2 Axes>"
            ]
          },
          "metadata": {
            "tags": [],
            "needs_background": "light"
          }
        }
      ]
    },
    {
      "cell_type": "code",
      "metadata": {
        "id": "ECZtF-Pzenpf",
        "colab_type": "code",
        "colab": {
          "base_uri": "https://localhost:8080/",
          "height": 436
        },
        "outputId": "495d2fca-e63b-4bd7-85cb-bb8c35b3506d"
      },
      "source": [
        "fig, (ax1, ax2) = plt.subplots(1, 2, figsize=(12,5))\n",
        "\n",
        "# Top bigrams before removing stop words in real articles' text\n",
        "\n",
        "real_bi_words_sw = get_top_n_bigram(real_df['text'], 20)\n",
        "\n",
        "df_real_3 = pd.DataFrame(real_bi_words_sw, columns=['article_text', 'count'])\n",
        "df_real_3.groupby('article_text').sum()['count'].sort_values(ascending=False).plot(kind='bar', \n",
        "                                                                            title='Top 20 bigrams in real article text before removing stop words',\n",
        "                                                                            ax=ax1)\n",
        "ax1.spines['right'].set_visible(False)\n",
        "ax1.spines['top'].set_visible(False)\n",
        "ax1.set(ylabel= 'Count')\n",
        "\n",
        "# Top bigrams after removing stop words in real articles' text\n",
        "\n",
        "real_bi_words_nosw = get_top_n_bigram_nosw(fake_df['text'], 20)\n",
        "\n",
        "df_fake_4 = pd.DataFrame(real_bi_words_nosw, columns=['article_text', 'count'])\n",
        "df_fake_4.groupby('article_text').sum()['count'].sort_values(ascending=False).plot(kind='bar', \n",
        "                                                                            title='Top 20 bigrams in real article text after removing stop words',\n",
        "                                                                            ax=ax2)\n",
        "ax2.spines['right'].set_visible(False)\n",
        "ax2.spines['top'].set_visible(False)\n",
        "ax2.set(ylabel = 'Count')\n",
        "plt.show()"
      ],
      "execution_count": 44,
      "outputs": [
        {
          "output_type": "display_data",
          "data": {
            "image/png": "[encoded data removed]",
            "text/plain": [
              "<Figure size 864x360 with 2 Axes>"
            ]
          },
          "metadata": {
            "tags": [],
            "needs_background": "light"
          }
        }
      ]
    },
    {
      "cell_type": "code",
      "metadata": {
        "id": "ETAWKdh9eoMx",
        "colab_type": "code",
        "colab": {
          "base_uri": "https://localhost:8080/",
          "height": 448
        },
        "outputId": "4a61d60d-e078-478e-fe3e-dfa0b50b31de"
      },
      "source": [
        "fig, (ax1, ax2) = plt.subplots(1, 2, figsize=(12,5))\n",
        "\n",
        "# Top trigrams before removing stop words in real articles' text\n",
        "\n",
        "real_tri_words_sw = get_top_n_trigram(real_df['text'], 20)\n",
        "\n",
        "df_real_5 = pd.DataFrame(real_tri_words_sw, columns=['article_text', 'count'])\n",
        "df_real_5.groupby('article_text').sum()['count'].sort_values(ascending=False).plot(kind='bar', \n",
        "                                                                            title='Top 20 trigrams in real article text before removing stop words',\n",
        "                                                                            ax=ax1)\n",
        "ax1.spines['right'].set_visible(False)\n",
        "ax1.spines['top'].set_visible(False)\n",
        "ax1.set(ylabel= 'Count')\n",
        "\n",
        "# Top trigrams after removing stop words in real articles' text\n",
        "real_tri_words_nosw = get_top_n_trigram_nosw(df['text'], 20)\n",
        "\n",
        "df_real_6 = pd.DataFrame(real_tri_words_nosw, columns=['article_text', 'count'])\n",
        "df_real_6.groupby('article_text').sum()['count'].sort_values(ascending=False).plot(kind='bar', \n",
        "                                                                            title='Top 20 trigrams in real article text after removing stop words',\n",
        "                                                                            ax=ax2)\n",
        "ax2.spines['right'].set_visible(False)\n",
        "ax2.spines['top'].set_visible(False)\n",
        "ax2.set(ylabel = 'Count')\n",
        "plt.show()"
      ],
      "execution_count": 45,
      "outputs": [
        {
          "output_type": "display_data",
          "data": {
            "image/png": "[encoded data removed]",
            "text/plain": [
              "<Figure size 864x360 with 2 Axes>"
            ]
          },
          "metadata": {
            "tags": [],
            "needs_background": "light"
          }
        }
      ]
    },
    {
      "cell_type": "code",
      "metadata": {
        "id": "cNbpthVueriK",
        "colab_type": "code",
        "colab": {
          "base_uri": "https://localhost:8080/",
          "height": 51
        },
        "outputId": "a7739343-03c0-4504-b3df-e78196a16c9e"
      },
      "source": [
        "# Look at the means of the credit score of customers who exited and all bank customers \n",
        "mean_all_articles  =   df['text_polarity'].mean()\n",
        "mean_fake_articles = fake_df['text_polarity'].mean()\n",
        "\n",
        "print('The mean text polarity of all articles is ' + str(mean_all_articles))\n",
        "print('The mean text polarity of fake articles is ' + str(mean_fake_articles))"
      ],
      "execution_count": 20,
      "outputs": [
        {
          "output_type": "stream",
          "text": [
            "The mean text polarity of all articles is 0.07129251085549954\n",
            "The mean text polarity of fake articles is 0.0735741624574898\n"
          ],
          "name": "stdout"
        }
      ]
    },
    {
      "cell_type": "code",
      "metadata": {
        "id": "l1QyGUXJexV_",
        "colab_type": "code",
        "colab": {
          "base_uri": "https://localhost:8080/",
          "height": 34
        },
        "outputId": "b3ea8f1b-77ba-4445-fd5d-2c22d706354d"
      },
      "source": [
        "stats.ttest_1samp(a=  fake_df['text_polarity'], # Sample of text polarity ofarticles that are fake \n",
        "                  popmean = mean_all_articles) # Mean of the population"
      ],
      "execution_count": 21,
      "outputs": [
        {
          "output_type": "execute_result",
          "data": {
            "text/plain": [
              "Ttest_1sampResult(statistic=3.020018793001539, pvalue=0.0025337349388929752)"
            ]
          },
          "metadata": {
            "tags": []
          },
          "execution_count": 21
        }
      ]
    },
    {
      "cell_type": "code",
      "metadata": {
        "id": "cr-Fr_yNe1Oq",
        "colab_type": "code",
        "colab": {
          "base_uri": "https://localhost:8080/",
          "height": 51
        },
        "outputId": "b8a4e49f-42b1-4b17-c862-8cdc3ed9b5d9"
      },
      "source": [
        "degree_of_freedom = len(df[df['label']==1])\n",
        "\n",
        "left_quartile = stats.t.ppf(0.025,degree_of_freedom)  # Left Quartile\n",
        "\n",
        "right_quartile = stats.t.ppf(0.975,degree_of_freedom)  # Right Quartile\n",
        "\n",
        "print ('The t-distribution left quartile range is: ' + str(left_quartile))\n",
        "print ('The t-distribution right quartile range is: ' + str(right_quartile))"
      ],
      "execution_count": 22,
      "outputs": [
        {
          "output_type": "stream",
          "text": [
            "The t-distribution left quartile range is: -1.960197296450186\n",
            "The t-distribution right quartile range is: 1.9601972964501855\n"
          ],
          "name": "stdout"
        }
      ]
    },
    {
      "cell_type": "code",
      "metadata": {
        "id": "YD3XfVKbe4qj",
        "colab_type": "code",
        "colab": {
          "base_uri": "https://localhost:8080/",
          "height": 34
        },
        "outputId": "f0e88ca0-13f8-4ddb-9409-b49929f7e5d2"
      },
      "source": [
        "sigma = fake_df['text_polarity'].std()/math.sqrt(degree_of_freedom + 1)  # Sample stdev/sample size\n",
        "\n",
        "stats.t.interval(0.95,                        # Confidence level\n",
        "                 df = degree_of_freedom,                     # Degrees of freedom\n",
        "                 loc = mean_fake_articles, # Sample mean\n",
        "                 scale= sigma)"
      ],
      "execution_count": 23,
      "outputs": [
        {
          "output_type": "execute_result",
          "data": {
            "text/plain": [
              "(0.07207764342443139, 0.0750706814905482)"
            ]
          },
          "metadata": {
            "tags": []
          },
          "execution_count": 23
        }
      ]
    },
    {
      "cell_type": "code",
      "metadata": {
        "id": "mzO7bkQon1aZ",
        "colab_type": "code",
        "colab": {}
      },
      "source": [
        "y = df['label']\n",
        "X_train, X_test, y_train, y_test = train_test_split(df['text'],y, test_size=0.2, random_state=40)"
      ],
      "execution_count": 24,
      "outputs": []
    },
    {
      "cell_type": "code",
      "metadata": {
        "id": "A5WXDxalfApF",
        "colab_type": "code",
        "colab": {}
      },
      "source": [
        "count_vectorizer = CountVectorizer(stop_words='english')\n",
        "count_train = count_vectorizer.fit_transform(X_train)\n",
        "count_test = count_vectorizer.transform(X_test)"
      ],
      "execution_count": 25,
      "outputs": []
    },
    {
      "cell_type": "code",
      "metadata": {
        "id": "8HLMPl-Kc7f-",
        "colab_type": "code",
        "colab": {}
      },
      "source": [
        "tfidf_vectorizer = TfidfVectorizer(stop_words='english')\n",
        "tfidf_train = tfidf_vectorizer.fit_transform(X_train)\n",
        "tfidf_test = tfidf_vectorizer.transform(X_test)"
      ],
      "execution_count": 26,
      "outputs": []
    },
    {
      "cell_type": "code",
      "metadata": {
        "id": "AXnFoU4fjZzO",
        "colab_type": "code",
        "colab": {}
      },
      "source": [
        "count_df = pd.DataFrame(count_train.A, columns=count_vectorizer.get_feature_names())\n",
        "tfidf_df = pd.DataFrame(tfidf_train.A, columns=tfidf_vectorizer.get_feature_names())"
      ],
      "execution_count": null,
      "outputs": []
    },
    {
      "cell_type": "code",
      "metadata": {
        "id": "x2Z-FJp5jcIe",
        "colab_type": "code",
        "colab": {
          "base_uri": "https://localhost:8080/",
          "height": 180
        },
        "outputId": "0a9b2e5f-a2e5-4e3d-da67-732d8e0aca0f"
      },
      "source": [
        "log_reg_classifier(LogisticRegression, 'balanced', 0.01, count_train, y_train, count_test, y_test)"
      ],
      "execution_count": 1,
      "outputs": [
        {
          "output_type": "error",
          "ename": "NameError",
          "evalue": "ignored",
          "traceback": [
            "\u001b[0;31m---------------------------------------------------------------------------\u001b[0m",
            "\u001b[0;31mNameError\u001b[0m                                 Traceback (most recent call last)",
            "\u001b[0;32m<ipython-input-1-ae40e19db8d6>\u001b[0m in \u001b[0;36m<module>\u001b[0;34m()\u001b[0m\n\u001b[0;32m----> 1\u001b[0;31m \u001b[0mlog_reg_classifier\u001b[0m\u001b[0;34m(\u001b[0m\u001b[0mLogisticRegression\u001b[0m\u001b[0;34m,\u001b[0m \u001b[0;34m'balanced'\u001b[0m\u001b[0;34m,\u001b[0m \u001b[0;36m0.01\u001b[0m\u001b[0;34m,\u001b[0m \u001b[0mcount_train\u001b[0m\u001b[0;34m,\u001b[0m \u001b[0my_train\u001b[0m\u001b[0;34m,\u001b[0m \u001b[0mcount_test\u001b[0m\u001b[0;34m,\u001b[0m \u001b[0my_test\u001b[0m\u001b[0;34m)\u001b[0m\u001b[0;34m\u001b[0m\u001b[0;34m\u001b[0m\u001b[0m\n\u001b[0m",
            "\u001b[0;31mNameError\u001b[0m: name 'log_reg_classifier' is not defined"
          ]
        }
      ]
    },
    {
      "cell_type": "code",
      "metadata": {
        "id": "jFeBbQt7jgyM",
        "colab_type": "code",
        "colab": {
          "base_uri": "https://localhost:8080/",
          "height": 197
        },
        "outputId": "bfcd51a8-9ef3-4c9d-f9e3-5c6c5a52b2ad"
      },
      "source": [
        "\n",
        "log_reg_classifier(LogisticRegression, 'balanced', 0.01, tfidf_train, y_train, tfidf_test, y_test)"
      ],
      "execution_count": 2,
      "outputs": [
        {
          "output_type": "error",
          "ename": "NameError",
          "evalue": "ignored",
          "traceback": [
            "\u001b[0;31m---------------------------------------------------------------------------\u001b[0m",
            "\u001b[0;31mNameError\u001b[0m                                 Traceback (most recent call last)",
            "\u001b[0;32m<ipython-input-2-2aa1548c49e1>\u001b[0m in \u001b[0;36m<module>\u001b[0;34m()\u001b[0m\n\u001b[1;32m      1\u001b[0m \u001b[0;34m\u001b[0m\u001b[0m\n\u001b[0;32m----> 2\u001b[0;31m \u001b[0mlog_reg_classifier\u001b[0m\u001b[0;34m(\u001b[0m\u001b[0mLogisticRegression\u001b[0m\u001b[0;34m,\u001b[0m \u001b[0;34m'balanced'\u001b[0m\u001b[0;34m,\u001b[0m \u001b[0;36m0.01\u001b[0m\u001b[0;34m,\u001b[0m \u001b[0mtfidf_train\u001b[0m\u001b[0;34m,\u001b[0m \u001b[0my_train\u001b[0m\u001b[0;34m,\u001b[0m \u001b[0mtfidf_test\u001b[0m\u001b[0;34m,\u001b[0m \u001b[0my_test\u001b[0m\u001b[0;34m)\u001b[0m\u001b[0;34m\u001b[0m\u001b[0;34m\u001b[0m\u001b[0m\n\u001b[0m",
            "\u001b[0;31mNameError\u001b[0m: name 'log_reg_classifier' is not defined"
          ]
        }
      ]
    },
    {
      "cell_type": "markdown",
      "metadata": {
        "id": "YbkAa8s5jtW3",
        "colab_type": "text"
      },
      "source": [
        "Hyper-parameter tuning\n",
        "\n",
        "# New Section"
      ]
    },
    {
      "cell_type": "code",
      "metadata": {
        "id": "Jmg3Z_LgjzJ8",
        "colab_type": "code",
        "colab": {}
      },
      "source": [
        "alphas = np.arange(0,1,0.1)"
      ],
      "execution_count": null,
      "outputs": []
    },
    {
      "cell_type": "code",
      "metadata": {
        "id": "BImQsSAQj4DR",
        "colab_type": "code",
        "colab": {}
      },
      "source": [
        "# -- Hyper-parameter tuning for Decision Tree Classifier -- \n",
        "\n",
        "classifier= MultinomialNB()\n",
        "grid_param = {'alpha': alphas}\n",
        "gd_sr = GridSearchCV(estimator=classifier,\n",
        "                     param_grid=grid_param,\n",
        "                     scoring='roc_auc',\n",
        "                     cv=10,\n",
        "                     n_jobs=-1)\n",
        "\n",
        "gd_sr.fit(count_train,y_train)\n",
        "best_parameters = gd_sr.best_params_\n",
        "print(best_parameters)"
      ],
      "execution_count": null,
      "outputs": []
    },
    {
      "cell_type": "code",
      "metadata": {
        "id": "zKWrfs9ij6NR",
        "colab_type": "code",
        "colab": {}
      },
      "source": [
        "# -- Hyper-parameter tuning for Decision Tree Classifier -- \n",
        "\n",
        "classifier= MultinomialNB()\n",
        "grid_param = {'alpha': alphas}\n",
        "\n",
        "gd_sr = GridSearchCV(estimator=classifier,\n",
        "                     param_grid=grid_param,\n",
        "                     scoring='roc_auc',\n",
        "                     cv=10,\n",
        "                     n_jobs=-1)\n",
        "\n",
        "gd_sr.fit(tfidf_train, y_train)\n",
        "best_parameters = gd_sr.best_params_\n",
        "print(best_parameters)"
      ],
      "execution_count": null,
      "outputs": []
    },
    {
      "cell_type": "code",
      "metadata": {
        "id": "sMdnufuvj89q",
        "colab_type": "code",
        "colab": {}
      },
      "source": [
        "mnb_classifier(MultinomialNB, 0.1, count_train, y_train, count_test, y_test)"
      ],
      "execution_count": null,
      "outputs": []
    },
    {
      "cell_type": "code",
      "metadata": {
        "id": "wS1QawFIj-6Q",
        "colab_type": "code",
        "colab": {}
      },
      "source": [
        "mnb_classifier(MultinomialNB, 0.1, tfidf_train, y_train, tfidf_test, y_test)"
      ],
      "execution_count": null,
      "outputs": []
    },
    {
      "cell_type": "code",
      "metadata": {
        "id": "Aa9ANJlukBOn",
        "colab_type": "code",
        "colab": {}
      },
      "source": [
        "# The maximum number of words to be used. (most frequent)\n",
        "MAX_NB_WORDS = 50000\n",
        "# Max number of words in each complaint.\n",
        "MAX_SEQUENCE_LENGTH = 250\n",
        "# This is fixed.\n",
        "EMBEDDING_DIM = 100"
      ],
      "execution_count": null,
      "outputs": []
    },
    {
      "cell_type": "code",
      "metadata": {
        "id": "lEMu2KZhkDp-",
        "colab_type": "code",
        "colab": {}
      },
      "source": [
        "tokenizer = Tokenizer(num_words=MAX_NB_WORDS, filters='!\"#$%&()*+,-./:;<=>?@[\\]^_`{|}~', lower=True)\n",
        "tokenizer.fit_on_texts(df['text'].values)\n",
        "word_index = tokenizer.word_index\n",
        "print('Found %s unique tokens.' % len(word_index))"
      ],
      "execution_count": null,
      "outputs": []
    },
    {
      "cell_type": "code",
      "metadata": {
        "id": "gThQDf3xkGmj",
        "colab_type": "code",
        "colab": {}
      },
      "source": [
        "X = tokenizer.texts_to_sequences(df['text'].values)\n",
        "X = pad_sequences(X, maxlen=MAX_SEQUENCE_LENGTH)\n",
        "print('Shape of data tensor:', X.shape)"
      ],
      "execution_count": null,
      "outputs": []
    },
    {
      "cell_type": "code",
      "metadata": {
        "id": "RMH6SFRukI3g",
        "colab_type": "code",
        "colab": {}
      },
      "source": [
        "Y = pd.get_dummies(df['label']).values"
      ],
      "execution_count": null,
      "outputs": []
    },
    {
      "cell_type": "code",
      "metadata": {
        "id": "7CfIPlcDkKeb",
        "colab_type": "code",
        "colab": {}
      },
      "source": [
        "\n",
        "X_Train, X_Test, Y_Train, Y_Test = train_test_split(X,Y, test_size = 0.20, random_state = 42)\n",
        "print(X_Train.shape,Y_Train.shape)\n",
        "print(X_Test.shape,Y_Test.shape)"
      ],
      "execution_count": null,
      "outputs": []
    },
    {
      "cell_type": "code",
      "metadata": {
        "id": "HEbT13GSkNEc",
        "colab_type": "code",
        "colab": {}
      },
      "source": [
        "model = Sequential()\n",
        "model.add(Embedding(MAX_NB_WORDS, EMBEDDING_DIM, input_length=X.shape[1]))\n",
        "model.add(SpatialDropout1D(0.2))\n",
        "model.add(LSTM(100, dropout=0.1, recurrent_dropout=0.1))\n",
        "model.add(Dense(2, activation='softmax'))\n",
        "model.compile(loss='binary_crossentropy', optimizer='adam', metrics=['accuracy'])\n",
        "\n",
        "epochs = 15\n",
        "batch_size = 64\n",
        "\n",
        "history = model.fit(X_Train, Y_Train, epochs=epochs, batch_size=batch_size,validation_split=0.1,callbacks=[EarlyStopping(monitor='val_loss', patience=3, min_delta=0.0001)])"
      ],
      "execution_count": null,
      "outputs": []
    },
    {
      "cell_type": "code",
      "metadata": {
        "id": "x4E094VskQBz",
        "colab_type": "code",
        "colab": {}
      },
      "source": [
        "accr = model.evaluate(X_Test,Y_Test)\n",
        "print('Test set\\n  Loss: {:0.2f}\\n  Accuracy: {:0.2f}'.format(accr[0],accr[1]))"
      ],
      "execution_count": null,
      "outputs": []
    },
    {
      "cell_type": "code",
      "metadata": {
        "id": "zPi3q_BakZjQ",
        "colab_type": "code",
        "colab": {}
      },
      "source": [
        "yhat_classes = model.predict_classes(X_Test, verbose=0)\n",
        "y_temp_pred = [1 if x[1] == 1 else 0 for x in Y_Test]"
      ],
      "execution_count": null,
      "outputs": []
    },
    {
      "cell_type": "code",
      "metadata": {
        "id": "7UrECGnkkbWM",
        "colab_type": "code",
        "colab": {}
      },
      "source": [
        "print(\"-- LSTM Neural Network on Tokenized Text --\")\n",
        "lstm_auc_score = roc_auc_score(y_temp_pred, yhat_classes)\n",
        "print(\"-- LSTM Neural Network on Tokenized Text AUC = %2.2f --\" % lstm_auc_score)\n",
        "print(\"-- LSTM Neural Network on Tokenized Text Accuracy = %2.2f --\" % accr[1])\n",
        "print(\"\\n\")\n",
        "print(confusion_matrix(y_temp_pred, yhat_classes))\n",
        "print(\"\\n\")\n",
        "print(classification_report(y_temp_pred, yhat_classes))"
      ],
      "execution_count": null,
      "outputs": []
    },
    {
      "cell_type": "code",
      "metadata": {
        "id": "Ye1AiHqokePw",
        "colab_type": "code",
        "colab": {}
      },
      "source": [
        "plt.title('Loss')\n",
        "plt.plot(history.history['loss'], label='train')\n",
        "plt.plot(history.history['val_loss'], label='test')\n",
        "plt.title('model train vs validation loss')\n",
        "plt.ylabel('loss')\n",
        "plt.xlabel('epoch')\n",
        "plt.legend()\n",
        "plt.show();"
      ],
      "execution_count": null,
      "outputs": []
    },
    {
      "cell_type": "code",
      "metadata": {
        "id": "1ON20_gskg9C",
        "colab_type": "code",
        "colab": {}
      },
      "source": [
        "\n",
        "plt.title('Accuracy')\n",
        "plt.plot(history.history['accuracy'], label='train')\n",
        "plt.plot(history.history['val_accuracy'], label='test')\n",
        "plt.title('model train vs validation accuracy')\n",
        "plt.ylabel('accuracy')\n",
        "plt.xlabel('epoch')\n",
        "plt.legend()\n",
        "plt.show();"
      ],
      "execution_count": null,
      "outputs": []
    },
    {
      "cell_type": "code",
      "metadata": {
        "id": "ThMZ1ZGbkjVJ",
        "colab_type": "code",
        "colab": {}
      },
      "source": [
        "from sklearn.metrics import roc_curve\n",
        "fpr, tpr, thresholds = roc_curve(y_test, nb_classifier.predict_proba(count_test)[:,1])\n",
        "tdidf_fpr, tdidf_tpr, tdidf_thresholds = roc_curve(y_test, nb_tfidf_classifier.predict_proba(tfidf_test)[:,1])\n",
        "fpr_lr, tpr_lr, thresholds_lr = roc_curve(y_test, log_reg.predict_proba(count_test)[:,1])\n",
        "fpr_lr_tfidf, tpr_lr_tfidf, thresholds_lr_tfidf = roc_curve(y_test, log_reg_tfidf.predict_proba(tfidf_test)[:,1])\n",
        "\n",
        "plt.figure()\n",
        "\n",
        "# Plot Logistic Regression ROC with Count Vectorizer \n",
        "plt.plot(fpr_lr, tpr_lr, label='Logistic Regression with Count Vectorizer (area = %0.2f)' % log_reg_auc_score)\n",
        "# Plot Logistic Regression ROC with TFIDF\n",
        "\n",
        "plt.plot(fpr_lr_tfidf, tpr_lr_tfidf, label='Logistic Regression with TF-IDF (area = %0.2f)' % log_reg_tfidf_auc_score)\n",
        "\n",
        "# Plot Multinomial NB with count vectorizer \n",
        "plt.plot(fpr, tpr, label='Multinomial NB with Count Vectorizer (area = %0.2f)' % mnb_cv_auc_score)\n",
        "\n",
        "# Plot Multinomial NB with TF-IDF\n",
        "plt.plot(tdidf_fpr, tdidf_tpr, label='Multinomial NB with TF-IDF (area = %0.2f)' % mnb_tfidf_auc_score)\n",
        "\n",
        "# Plot LSTM \n",
        "fpr_keras, tpr_keras, thresholds_keras = roc_curve(y_temp_pred, yhat_classes)\n",
        "auc_keras = auc(fpr_keras, tpr_keras)\n",
        "plt.plot(fpr_keras, tpr_keras, label='LSTM (area = {:.2f})'.format(auc_keras))\n",
        "\n",
        "# Plot Base Rate ROC\n",
        "plt.plot([0,1], [0,1],label='Base Rate')\n",
        "\n",
        "plt.xlim([0.0, 1.0])\n",
        "plt.ylim([0.0, 1.05])\n",
        "plt.xlabel('False Positive Rate')\n",
        "plt.ylabel('True Positive Rate')\n",
        "plt.title('ROC Graph')\n",
        "plt.legend(loc=\"best\")\n",
        "plt.show()"
      ],
      "execution_count": null,
      "outputs": []
    },
    {
      "cell_type": "code",
      "metadata": {
        "id": "biXP_6LrkoDH",
        "colab_type": "code",
        "colab": {}
      },
      "source": [
        ""
      ],
      "execution_count": null,
      "outputs": []
    }
  ]
}