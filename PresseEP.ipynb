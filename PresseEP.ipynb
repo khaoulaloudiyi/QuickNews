{
  "nbformat": 4,
  "nbformat_minor": 0,
  "metadata": {
    "kernelspec": {
      "display_name": "Python 3",
      "language": "python",
      "name": "python3"
    },
    "language_info": {
      "codemirror_mode": {
        "name": "ipython",
        "version": 3
      },
      "file_extension": ".py",
      "mimetype": "text/x-python",
      "name": "python",
      "nbconvert_exporter": "python",
      "pygments_lexer": "ipython3",
      "version": "3.7.1"
    },
    "colab": {
      "name": "PresseEP.ipynb",
      "provenance": [],
      "collapsed_sections": [],
      "include_colab_link": true
    }
  },
  "cells": [
    {
      "cell_type": "markdown",
      "metadata": {
        "id": "view-in-github",
        "colab_type": "text"
      },
      "source": [
        "<a href=\"https://colab.research.google.com/github/khaoulaloudiyi/QuickNews/blob/master/PresseEP.ipynb\" target=\"_parent\"><img src=\"https://colab.research.google.com/assets/colab-badge.svg\" alt=\"Open In Colab\"/></a>"
      ]
    },
    {
      "cell_type": "code",
      "metadata": {
        "id": "GHdpHSWd_VcR",
        "colab_type": "code",
        "colab": {
          "base_uri": "https://localhost:8080/",
          "height": 119
        },
        "outputId": "37961dd1-9277-4825-ae37-4de4fae725ea"
      },
      "source": [
        "!pip install dateparser"
      ],
      "execution_count": null,
      "outputs": [
        {
          "output_type": "stream",
          "text": [
            "Requirement already satisfied: dateparser in /usr/local/lib/python3.6/dist-packages (0.7.6)\n",
            "Requirement already satisfied: python-dateutil in /usr/local/lib/python3.6/dist-packages (from dateparser) (2.8.1)\n",
            "Requirement already satisfied: tzlocal in /usr/local/lib/python3.6/dist-packages (from dateparser) (1.5.1)\n",
            "Requirement already satisfied: pytz in /usr/local/lib/python3.6/dist-packages (from dateparser) (2018.9)\n",
            "Requirement already satisfied: regex!=2019.02.19 in /usr/local/lib/python3.6/dist-packages (from dateparser) (2019.12.20)\n",
            "Requirement already satisfied: six>=1.5 in /usr/local/lib/python3.6/dist-packages (from python-dateutil->dateparser) (1.15.0)\n"
          ],
          "name": "stdout"
        }
      ]
    },
    {
      "cell_type": "code",
      "metadata": {
        "id": "8cuLXKie_f42",
        "colab_type": "code",
        "colab": {
          "base_uri": "https://localhost:8080/",
          "height": 34
        },
        "outputId": "6693c6ca-c085-40dc-bcf4-a552573e33e2"
      },
      "source": [
        "from google.colab import drive\n",
        "drive.mount('/content/drive')"
      ],
      "execution_count": null,
      "outputs": [
        {
          "output_type": "stream",
          "text": [
            "Drive already mounted at /content/drive; to attempt to forcibly remount, call drive.mount(\"/content/drive\", force_remount=True).\n"
          ],
          "name": "stdout"
        }
      ]
    },
    {
      "cell_type": "code",
      "metadata": {
        "id": "Vun791UC_F-z",
        "colab_type": "code",
        "colab": {
          "base_uri": "https://localhost:8080/",
          "height": 34
        },
        "outputId": "9eab1534-4ded-4c0d-b42a-86f8a9f45c45"
      },
      "source": [
        "cd /content/drive/My Drive//MediaInsights"
      ],
      "execution_count": null,
      "outputs": [
        {
          "output_type": "stream",
          "text": [
            "/content/drive/My Drive/MediaInsights\n"
          ],
          "name": "stdout"
        }
      ]
    },
    {
      "cell_type": "code",
      "metadata": {
        "id": "yMJcyVGeINXO",
        "colab_type": "code",
        "colab": {
          "base_uri": "https://localhost:8080/",
          "height": 34
        },
        "outputId": "81169bd8-b3a5-48ed-9b81-66231304c527"
      },
      "source": [
        "!pwd"
      ],
      "execution_count": null,
      "outputs": [
        {
          "output_type": "stream",
          "text": [
            "/content/drive/My Drive/MediaInsights\n"
          ],
          "name": "stdout"
        }
      ]
    },
    {
      "cell_type": "code",
      "metadata": {
        "id": "RwHQAk6z_AIt",
        "colab_type": "code",
        "colab": {
          "base_uri": "https://localhost:8080/",
          "height": 71
        },
        "outputId": "30f358c7-a6a4-439c-acb3-4b651a59dcbb"
      },
      "source": [
        "from bs4 import BeautifulSoup\n",
        "from urllib.request import Request, urlopen\n",
        "from datetime import datetime\n",
        "import pandas as pd\n",
        "import csv\n",
        "import dateparser\n",
        "from textblob import TextBlob\n",
        "from textblob.classifiers import NaiveBayesClassifier\n",
        "from collections import Counter \n",
        "from string import punctuation\n",
        "from sklearn.feature_extraction.stop_words import ENGLISH_STOP_WORDS as stop_words\n",
        "import spacy \n",
        "from spacy.lang.en.stop_words import STOP_WORDS\n",
        "import nltk \n",
        "from nltk.corpus import stopwords"
      ],
      "execution_count": null,
      "outputs": [
        {
          "output_type": "stream",
          "text": [
            "/usr/local/lib/python3.6/dist-packages/sklearn/utils/deprecation.py:144: FutureWarning: The sklearn.feature_extraction.stop_words module is  deprecated in version 0.22 and will be removed in version 0.24. The corresponding classes / functions should instead be imported from sklearn.feature_extraction.text. Anything that cannot be imported from sklearn.feature_extraction.text is now part of the private API.\n",
            "  warnings.warn(message, FutureWarning)\n"
          ],
          "name": "stderr"
        }
      ]
    },
    {
      "cell_type": "code",
      "metadata": {
        "id": "iou6sRCCJPgN",
        "colab_type": "code",
        "colab": {
          "base_uri": "https://localhost:8080/",
          "height": 51
        },
        "outputId": "0ebd3c41-99b7-49d7-8258-08feec670a13"
      },
      "source": [
        "nltk.download('stopwords')\n",
        "swa = stopwords.words('spanish')"
      ],
      "execution_count": null,
      "outputs": [
        {
          "output_type": "stream",
          "text": [
            "[nltk_data] Downloading package stopwords to /root/nltk_data...\n",
            "[nltk_data]   Unzipping corpora/stopwords.zip.\n"
          ],
          "name": "stdout"
        }
      ]
    },
    {
      "cell_type": "code",
      "metadata": {
        "id": "kolBwjDQ_AIz",
        "colab_type": "code",
        "colab": {}
      },
      "source": [
        "#Cette partie doit être executer une seule fois pour créer le header des deux fichiers csv\n",
        "\n",
        "#Ce fichier joue un rôle principal pour la mise à jour puisqu'il contient le champ lastDate qui réfère à la date ou la dernière mise à jour a été effectué et le champ maxid pour faciliter la recherche du plus grand Id \n",
        "with open('presse_lastUpdate.csv','w',encoding=\"utf-8\") as csv_file:\n",
        "    fieldnames=['country', 'Publication', 'maxId', 'lastDate']\n",
        "    writer = csv.DictWriter(csv_file, fieldnames=fieldnames)\n",
        "    writer.writeheader()\n",
        "    \n",
        "#Ce fichier est réservé pour stocker les différents articles récupéré grâce au scraping \n",
        "with open('ArticlesEP.csv','w',encoding=\"utf-8\") as csv_file:\n",
        "    fieldnames=['Id','Title','Author','Date','Publication','URL','Content','Language','Country', \"sentiment\",\"Summary\"]\n",
        "    writer = csv.DictWriter(csv_file, fieldnames=fieldnames)\n",
        "    writer.writeheader()\n"
      ],
      "execution_count": null,
      "outputs": []
    },
    {
      "cell_type": "code",
      "metadata": {
        "id": "c-ppz8Td_AI3",
        "colab_type": "code",
        "colab": {}
      },
      "source": [
        "#D'abord il faut comprendre la structure des sites web de la presse, chaque presse possède un archive où tous les articles sont stocké, sous forme d'une dizaine d'articles dans plusieurs pages, \n",
        "#chaque page de ce dernier contient plusieurs articles référencé par des liens, et tous ces articles possède le même format et contient l'ensemble des informations sauf \n",
        "#l'information sur le \"sentiment\"\n",
        "\n",
        "#Le principe du Scraping qu'on a utilisé est le suivant \"exemple avec Hespress Ar mais la même chose se répète avec les autres presses\":\n",
        "#d'abord on effectue une étude pour comprendre la structure d'une page de l'archive (code html) afin de récupérer les liens des articles seulement\n",
        "#apres on analyse la structure d'un de ces articles (html) , On parcour l'ensemble des pages de l'archive grâce à la fonction \"add_newArticles_hespres\" cette\n",
        "#fonction utilise la variable p qui représente le numéro de page de l'archive a scrapé, on scrape cette page puis on collecte les liens\n",
        "#href des articles et pour chaque lien on scrape l'article avec la fonction \"scrap_article_Hespress\" et on l'ajout à la dataset Articles\n"
      ],
      "execution_count": null,
      "outputs": []
    },
    {
      "cell_type": "code",
      "metadata": {
        "id": "0KEjmiuXIcih",
        "colab_type": "code",
        "colab": {}
      },
      "source": [
        "#tokenizing sentences into words\n",
        "def tokenizer(s):\n",
        "    tokens = []\n",
        "    for word in s.split(' '):\n",
        "        tokens.append(word.strip().lower()) #strip remove spaces at the beginning and at the end of the string\n",
        "    return tokens\n",
        "\n",
        "#tokenizing document into sentences \n",
        "def sent_tokenizer(s):\n",
        "    sents = []\n",
        "    for sent in s.split('.'):\n",
        "        sents.append(sent.strip())\n",
        "    return sents\n",
        "\n",
        "def count_words(tokens):\n",
        "    word_counts = {}\n",
        "    for token in tokens:\n",
        "        if token not in stop_words and token not in STOP_WORDS and token not in swa and token not in punctuation:\n",
        "            if token not in word_counts.keys():\n",
        "                word_counts[token] = 1\n",
        "            else:\n",
        "                word_counts[token] += 1\n",
        "    return word_counts\n",
        "\n",
        "def word_freq_distribution(word_counts):\n",
        "    freq_dist = {}\n",
        "    max_freq = max(word_counts.values())\n",
        "    for word in word_counts.keys():  \n",
        "        freq_dist[word] = (word_counts[word]/max_freq)\n",
        "    return freq_dist\n",
        "\n",
        "def score_sentences(sents, freq_dist, max_len=40):\n",
        "    sent_scores = {}  \n",
        "    for sent in sents:\n",
        "        words = sent.split(' ')\n",
        "        for word in words:\n",
        "            if word.lower() in freq_dist.keys():\n",
        "                if len(words) < max_len:\n",
        "                    if sent not in sent_scores.keys():\n",
        "                        sent_scores[sent] = freq_dist[word.lower()]\n",
        "                    else:\n",
        "                        sent_scores[sent] += freq_dist[word.lower()]\n",
        "    return sent_scores\n",
        "\n",
        "def summarize(sent_scores, k):\n",
        "    top_sents = Counter(sent_scores) \n",
        "    summary = ''\n",
        "    scores = []\n",
        "    \n",
        "    top = top_sents.most_common(k)\n",
        "    for t in top: \n",
        "        summary += t[0].strip()+'. '\n",
        "        scores.append((t[1], t[0]))\n",
        "    return summary[:-1], scores"
      ],
      "execution_count": null,
      "outputs": []
    },
    {
      "cell_type": "code",
      "metadata": {
        "id": "3Abfjfaf_AJM",
        "colab_type": "code",
        "colab": {}
      },
      "source": [
        "def scrap_article_ELMundo(site,date_max,Id,writer):\n",
        "    link = site\n",
        "\n",
        "    hdr = {'User-Agent': 'Mozilla/5.0'}\n",
        "    req = Request(link,headers=hdr)\n",
        "    page = urlopen(req)\n",
        "    soup = BeautifulSoup(page)\n",
        "    \n",
        "    \n",
        "    language = \"sp\"\n",
        "    country = \"Spain\"\n",
        "    publication = \"ELMundo\"\n",
        "    scrap_title = soup.find(\"div\", {'id' : 'container'}).find(\"h2\").text\n",
        "    scrap = soup.find(\"div\", {'id' : 'container'}).find(\"h6\").text\n",
        "    scrap = scrap.split(\"|\")\n",
        "    if len(scrap) == 2:\n",
        "        scrap_author = scrap[0]\n",
        "        scrap_date= scrap[1]\n",
        "    else :\n",
        "        scrap_author = \"ELMundo\"\n",
        "        scrap_date = scrap[len(scrap)-1]\n",
        "\n",
        "    if scrap_date.find('midnight') == -1 and scrap_date.find('noon') == -1 and scrap_date.find('midday') == -1:\n",
        "        date_publication = pd.to_datetime(scrap_date)\n",
        "    else :\n",
        "        if scrap_date.find('midnight') !=-1:\n",
        "            date_pub= scrap_date.replace(\"midnight\",\"12:00 am\")\n",
        "        if scrap_date.find('noon') !=-1:\n",
        "            date_pub= scrap_date.replace(\"noon\",\"12:00 pm\")\n",
        "        if scrap_date.find('midday') !=-1 :\n",
        "            date_pub= scrap_date.replace(\"midday\",\"12:00 pm\")\n",
        "\n",
        "        date_publication = pd.to_datetime(date_pub)\n",
        "\n",
        "\n",
        "    content = \"\\n\"\n",
        "    scrap_content = soup.findAll(\"div\", {'class' : 'content-area left'})\n",
        "    for p in scrap_content:\n",
        "        content = content+p.text+'\\n'\n",
        "\n",
        "    title = scrap_title                    \n",
        "    author = scrap_author\n",
        "    date_publication\n",
        " \n",
        "    if(date_publication <= date_max):\n",
        "        return False, date_publication, Id\n",
        "    Id = Id + 1\n",
        "    \n",
        "    \n",
        "    #Sentiment Analysis\n",
        "    en_blob = TextBlob(str(content))\n",
        "    sent = en_blob.sentiment.polarity\n",
        "    if sent <-0.05 :\n",
        "        sentiment = \"Negative\"\n",
        "    elif sent > -0.05 and sent < 0.05 :\n",
        "        sentiment = \"Neutre\"\n",
        "    else :\n",
        "        sentiment = \"Positive\"\n",
        "\n",
        "    #Summarinzing\n",
        "    tokens = tokenizer(content)\n",
        "    sents = sent_tokenizer(content)\n",
        "    word_counts = count_words(tokens)\n",
        "    freq_dist = word_freq_distribution(word_counts)\n",
        "    sent_scores = score_sentences(sents, freq_dist)\n",
        "    summary, summary_sent_scores = summarize(sent_scores, 3)\n",
        "        \n",
        "    writer.writerow({'Id': Id,'Title': title,'Author': author,'Date':date_publication,'Publication': publication,'URL': site,'Content': content,'Language': language,'Country': country, 'sentiment': sentiment, 'Summary':summary}) \n",
        "    return True, date_publication, Id\n",
        "\n",
        "\n",
        "def Add_new_articles_ELMundo(Id,date_max):\n",
        "    p = 1\n",
        "    stay = True\n",
        "    with open('ArticlesEP.csv','a+',encoding=\"utf-8\") as csv_file:\n",
        "        fieldnames=['Id','Title','Author','Date','Publication','URL','Content','Language','Country','sentiment', 'Summary']\n",
        "        writer = csv.DictWriter(csv_file, fieldnames=fieldnames)\n",
        "        lastDate= date_max\n",
        "        try :\n",
        "            while stay :\n",
        "                \n",
        "                link= \"http://elmundonewspaper.com/news/noticias/?page=\"+str(p)\n",
        "                p = p+1\n",
        "                hdr = {'User-Agent': 'Mozilla/5.0'}\n",
        "                req = Request(link,headers=hdr)\n",
        "                page = urlopen(req)\n",
        "                soup = BeautifulSoup(page)\n",
        "                \n",
        "                stay = False\n",
        "                links =  soup.findAll(\"a\",{\"class\" : \"heading entry-title entry-summary\"})\n",
        "                \n",
        "                for link in links:\n",
        "                    site = \"http://elmundonewspaper.com\"+link[\"href\"]\n",
        "                    stay, date, Id = scrap_article_ELMundo(site,date_max,Id,writer)\n",
        "                    if date > lastDate:\n",
        "                            lastDate = date\n",
        "                    if not stay :\n",
        "                        break\n",
        "                    stay = True\n",
        "                \n",
        "                \n",
        "        except urllib.error.HTTPError :\n",
        "            stay = False\n",
        "    return Id, lastDate\n",
        "            \n",
        "\n",
        "def updates_ELMundo():\n",
        "    fieldnames=['country', 'Publication', 'maxId', 'lastDate']\n",
        "    with open('presse_lastUpdate.csv', newline='') as csvfile:\n",
        "        reader = csv.DictReader(csvfile)\n",
        "        readData = [row for row in reader]\n",
        "        found = False\n",
        "        id_max = 0 \n",
        "        lastdate = datetime(1 ,1 ,1 , 1, 1)\n",
        "        for row in readData:\n",
        "            if id_max < int(row['maxId']):\n",
        "                id_max = int(row['maxId'])\n",
        "            if row['country'] == \"Spain\" and row['Publication'] == \"ELMundo\" :\n",
        "                lastdate = pd.to_datetime(row['lastDate'])  \n",
        "                found = True\n",
        "        id_max, lastdate = Add_new_articles_ELMundo(id_max, lastdate)\n",
        "\n",
        "    if found :\n",
        "        with open('presse_lastUpdate.csv', \"w\", newline='') as file:\n",
        "            writer = csv.DictWriter(file, fieldnames=fieldnames)\n",
        "            writer.writeheader()\n",
        "            for row in readData:\n",
        "                if row['country'] == \"Spain\" and row['Publication'] == \"ELMundo\" :\n",
        "                    row['maxId'] = id_max\n",
        "                    row['lastDate'] = lastdate\n",
        "                    break\n",
        "            writer.writerows(readData)\n",
        "    if not found:\n",
        "        with open('presse_lastUpdate.csv', \"a+\", newline='') as file:\n",
        "            writer = csv.DictWriter(file, fieldnames=fieldnames)\n",
        "            writer.writerow({'country' :'Spain', 'Publication' : 'ELMundo',  'maxId' : id_max, 'lastDate' :lastdate})\n",
        "        "
      ],
      "execution_count": null,
      "outputs": []
    },
    {
      "cell_type": "code",
      "metadata": {
        "scrolled": true,
        "id": "H3_j6-B4_AJP",
        "colab_type": "code",
        "colab": {}
      },
      "source": [
        "def update():\n",
        "    #update_hespressFR()\n",
        "    #update_LeMatin()\n",
        "    #update_hespress()\n",
        "    #updates_TheAtlantic()\n",
        "    updates_ELMundo()\n",
        "       \n",
        "update()\n"
      ],
      "execution_count": null,
      "outputs": []
    }
  ]
}